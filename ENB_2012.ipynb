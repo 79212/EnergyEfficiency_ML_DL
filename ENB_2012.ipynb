{
 "cells": [
  {
   "cell_type": "code",
   "execution_count": 1,
   "metadata": {},
   "outputs": [],
   "source": [
    "# (7/3/20) Following a structured process for machine learning, using Energy Efficiency dataset from UCI found here:\n",
    "# https://archive.ics.uci.edu/ml/datasets/Energy+efficiency"
   ]
  },
  {
   "cell_type": "markdown",
   "metadata": {},
   "source": [
    "## 1st: import necessary packages and dataset"
   ]
  },
  {
   "cell_type": "code",
   "execution_count": 2,
   "metadata": {},
   "outputs": [
    {
     "name": "stderr",
     "output_type": "stream",
     "text": [
      "C:\\Users\\ver2bj\\AppData\\Local\\Continuum\\anaconda3\\lib\\site-packages\\dask\\config.py:168: YAMLLoadWarning: calling yaml.load() without Loader=... is deprecated, as the default Loader is unsafe. Please read https://msg.pyyaml.org/load for full details.\n",
      "  data = yaml.load(f.read()) or {}\n",
      "C:\\Users\\ver2bj\\AppData\\Local\\Continuum\\anaconda3\\lib\\site-packages\\dask\\dataframe\\utils.py:13: FutureWarning: pandas.util.testing is deprecated. Use the functions in the public API at pandas.testing instead.\n",
      "  import pandas.util.testing as tm\n",
      "C:\\Users\\ver2bj\\AppData\\Local\\Continuum\\anaconda3\\lib\\site-packages\\distributed\\config.py:20: YAMLLoadWarning: calling yaml.load() without Loader=... is deprecated, as the default Loader is unsafe. Please read https://msg.pyyaml.org/load for full details.\n",
      "  defaults = yaml.load(f)\n"
     ]
    }
   ],
   "source": [
    "import pandas as pd\n",
    "import numpy as np\n",
    "from numpy import set_printoptions\n",
    "import seaborn as sns\n",
    "import plotly.express as px\n",
    "from sklearn.linear_model import LinearRegression, LogisticRegression\n",
    "from sklearn.ensemble import VotingClassifier\n",
    "from sklearn.model_selection import train_test_split, cross_val_score, KFold\n",
    "from sklearn.metrics import mean_squared_error, explained_variance_score, cohen_kappa_score\n",
    "from sklearn.preprocessing import StandardScaler\n",
    "from sklearn.feature_selection import SelectKBest, f_regression, RFE, f_classif\n",
    "import matplotlib.pyplot as plt\n",
    "import math\n",
    "\n",
    "from sklearn.neural_network import MLPClassifier\n",
    "from sklearn.neighbors import KNeighborsClassifier\n",
    "from sklearn.svm import SVC, SVR\n",
    "from sklearn.gaussian_process import GaussianProcessClassifier\n",
    "from sklearn.gaussian_process.kernels import RBF\n",
    "from sklearn.tree import DecisionTreeClassifier, DecisionTreeRegressor\n",
    "from sklearn.ensemble import RandomForestClassifier, AdaBoostClassifier, RandomForestRegressor, GradientBoostingRegressor, AdaBoostRegressor\n",
    "from sklearn.neighbors import KNeighborsRegressor\n",
    "from xgboost import XGBClassifier\n",
    "from sklearn.naive_bayes import GaussianNB\n",
    "from sklearn.discriminant_analysis import QuadraticDiscriminantAnalysis\n",
    "from sklearn.multioutput import MultiOutputClassifier, MultiOutputRegressor\n",
    "from matplotlib.legend_handler import HandlerLine2D\n",
    "from sklearn.model_selection import GridSearchCV\n",
    "\n",
    "from sklearn.dummy import DummyClassifier,DummyRegressor\n",
    "from sklearn.pipeline import Pipeline"
   ]
  },
  {
   "cell_type": "code",
   "execution_count": 3,
   "metadata": {},
   "outputs": [],
   "source": [
    "data = pd.read_csv('ENB2012_data.csv')"
   ]
  },
  {
   "cell_type": "markdown",
   "metadata": {},
   "source": [
    "## 2nd: explore and understand the data. Re-state objective: to predict Heating and Cooling Loads"
   ]
  },
  {
   "cell_type": "code",
   "execution_count": 4,
   "metadata": {},
   "outputs": [
    {
     "data": {
      "text/html": [
       "<div>\n",
       "<style scoped>\n",
       "    .dataframe tbody tr th:only-of-type {\n",
       "        vertical-align: middle;\n",
       "    }\n",
       "\n",
       "    .dataframe tbody tr th {\n",
       "        vertical-align: top;\n",
       "    }\n",
       "\n",
       "    .dataframe thead th {\n",
       "        text-align: right;\n",
       "    }\n",
       "</style>\n",
       "<table border=\"1\" class=\"dataframe\">\n",
       "  <thead>\n",
       "    <tr style=\"text-align: right;\">\n",
       "      <th></th>\n",
       "      <th>Relative Compactness</th>\n",
       "      <th>Surface Area</th>\n",
       "      <th>Wall Area</th>\n",
       "      <th>Roof Area</th>\n",
       "      <th>Overall Height</th>\n",
       "      <th>Orientation</th>\n",
       "      <th>Glazing Area</th>\n",
       "      <th>Glazing Area Distributon</th>\n",
       "      <th>Heating Load</th>\n",
       "      <th>Cooling Load</th>\n",
       "    </tr>\n",
       "  </thead>\n",
       "  <tbody>\n",
       "    <tr>\n",
       "      <th>0</th>\n",
       "      <td>0.98</td>\n",
       "      <td>514.5</td>\n",
       "      <td>294.0</td>\n",
       "      <td>110.25</td>\n",
       "      <td>7.0</td>\n",
       "      <td>2.0</td>\n",
       "      <td>0.0</td>\n",
       "      <td>0.0</td>\n",
       "      <td>15.55</td>\n",
       "      <td>21.33</td>\n",
       "    </tr>\n",
       "    <tr>\n",
       "      <th>1</th>\n",
       "      <td>0.98</td>\n",
       "      <td>514.5</td>\n",
       "      <td>294.0</td>\n",
       "      <td>110.25</td>\n",
       "      <td>7.0</td>\n",
       "      <td>3.0</td>\n",
       "      <td>0.0</td>\n",
       "      <td>0.0</td>\n",
       "      <td>15.55</td>\n",
       "      <td>21.33</td>\n",
       "    </tr>\n",
       "    <tr>\n",
       "      <th>2</th>\n",
       "      <td>0.98</td>\n",
       "      <td>514.5</td>\n",
       "      <td>294.0</td>\n",
       "      <td>110.25</td>\n",
       "      <td>7.0</td>\n",
       "      <td>4.0</td>\n",
       "      <td>0.0</td>\n",
       "      <td>0.0</td>\n",
       "      <td>15.55</td>\n",
       "      <td>21.33</td>\n",
       "    </tr>\n",
       "    <tr>\n",
       "      <th>3</th>\n",
       "      <td>0.98</td>\n",
       "      <td>514.5</td>\n",
       "      <td>294.0</td>\n",
       "      <td>110.25</td>\n",
       "      <td>7.0</td>\n",
       "      <td>5.0</td>\n",
       "      <td>0.0</td>\n",
       "      <td>0.0</td>\n",
       "      <td>15.55</td>\n",
       "      <td>21.33</td>\n",
       "    </tr>\n",
       "    <tr>\n",
       "      <th>4</th>\n",
       "      <td>0.90</td>\n",
       "      <td>563.5</td>\n",
       "      <td>318.5</td>\n",
       "      <td>122.50</td>\n",
       "      <td>7.0</td>\n",
       "      <td>2.0</td>\n",
       "      <td>0.0</td>\n",
       "      <td>0.0</td>\n",
       "      <td>20.84</td>\n",
       "      <td>28.28</td>\n",
       "    </tr>\n",
       "  </tbody>\n",
       "</table>\n",
       "</div>"
      ],
      "text/plain": [
       "   Relative Compactness  Surface Area  Wall Area  Roof Area  Overall Height  \\\n",
       "0                  0.98         514.5      294.0     110.25             7.0   \n",
       "1                  0.98         514.5      294.0     110.25             7.0   \n",
       "2                  0.98         514.5      294.0     110.25             7.0   \n",
       "3                  0.98         514.5      294.0     110.25             7.0   \n",
       "4                  0.90         563.5      318.5     122.50             7.0   \n",
       "\n",
       "   Orientation  Glazing Area  Glazing Area Distributon  Heating Load  \\\n",
       "0          2.0           0.0                       0.0         15.55   \n",
       "1          3.0           0.0                       0.0         15.55   \n",
       "2          4.0           0.0                       0.0         15.55   \n",
       "3          5.0           0.0                       0.0         15.55   \n",
       "4          2.0           0.0                       0.0         20.84   \n",
       "\n",
       "   Cooling Load  \n",
       "0         21.33  \n",
       "1         21.33  \n",
       "2         21.33  \n",
       "3         21.33  \n",
       "4         28.28  "
      ]
     },
     "execution_count": 4,
     "metadata": {},
     "output_type": "execute_result"
    }
   ],
   "source": [
    "data.head()"
   ]
  },
  {
   "cell_type": "code",
   "execution_count": 5,
   "metadata": {},
   "outputs": [
    {
     "data": {
      "text/html": [
       "<div>\n",
       "<style scoped>\n",
       "    .dataframe tbody tr th:only-of-type {\n",
       "        vertical-align: middle;\n",
       "    }\n",
       "\n",
       "    .dataframe tbody tr th {\n",
       "        vertical-align: top;\n",
       "    }\n",
       "\n",
       "    .dataframe thead th {\n",
       "        text-align: right;\n",
       "    }\n",
       "</style>\n",
       "<table border=\"1\" class=\"dataframe\">\n",
       "  <thead>\n",
       "    <tr style=\"text-align: right;\">\n",
       "      <th></th>\n",
       "      <th>Relative Compactness</th>\n",
       "      <th>Surface Area</th>\n",
       "      <th>Wall Area</th>\n",
       "      <th>Roof Area</th>\n",
       "      <th>Overall Height</th>\n",
       "      <th>Orientation</th>\n",
       "      <th>Glazing Area</th>\n",
       "      <th>Glazing Area Distributon</th>\n",
       "      <th>Heating Load</th>\n",
       "      <th>Cooling Load</th>\n",
       "    </tr>\n",
       "  </thead>\n",
       "  <tbody>\n",
       "    <tr>\n",
       "      <th>count</th>\n",
       "      <td>768.000000</td>\n",
       "      <td>768.000000</td>\n",
       "      <td>768.000000</td>\n",
       "      <td>768.000000</td>\n",
       "      <td>768.00000</td>\n",
       "      <td>768.000000</td>\n",
       "      <td>768.000000</td>\n",
       "      <td>768.00000</td>\n",
       "      <td>768.000000</td>\n",
       "      <td>768.000000</td>\n",
       "    </tr>\n",
       "    <tr>\n",
       "      <th>mean</th>\n",
       "      <td>0.764167</td>\n",
       "      <td>671.708333</td>\n",
       "      <td>318.500000</td>\n",
       "      <td>176.604167</td>\n",
       "      <td>5.25000</td>\n",
       "      <td>3.500000</td>\n",
       "      <td>0.234375</td>\n",
       "      <td>2.81250</td>\n",
       "      <td>22.307201</td>\n",
       "      <td>24.587760</td>\n",
       "    </tr>\n",
       "    <tr>\n",
       "      <th>std</th>\n",
       "      <td>0.105777</td>\n",
       "      <td>88.086116</td>\n",
       "      <td>43.626481</td>\n",
       "      <td>45.165950</td>\n",
       "      <td>1.75114</td>\n",
       "      <td>1.118763</td>\n",
       "      <td>0.133221</td>\n",
       "      <td>1.55096</td>\n",
       "      <td>10.090196</td>\n",
       "      <td>9.513306</td>\n",
       "    </tr>\n",
       "    <tr>\n",
       "      <th>min</th>\n",
       "      <td>0.620000</td>\n",
       "      <td>514.500000</td>\n",
       "      <td>245.000000</td>\n",
       "      <td>110.250000</td>\n",
       "      <td>3.50000</td>\n",
       "      <td>2.000000</td>\n",
       "      <td>0.000000</td>\n",
       "      <td>0.00000</td>\n",
       "      <td>6.010000</td>\n",
       "      <td>10.900000</td>\n",
       "    </tr>\n",
       "    <tr>\n",
       "      <th>25%</th>\n",
       "      <td>0.682500</td>\n",
       "      <td>606.375000</td>\n",
       "      <td>294.000000</td>\n",
       "      <td>140.875000</td>\n",
       "      <td>3.50000</td>\n",
       "      <td>2.750000</td>\n",
       "      <td>0.100000</td>\n",
       "      <td>1.75000</td>\n",
       "      <td>12.992500</td>\n",
       "      <td>15.620000</td>\n",
       "    </tr>\n",
       "    <tr>\n",
       "      <th>50%</th>\n",
       "      <td>0.750000</td>\n",
       "      <td>673.750000</td>\n",
       "      <td>318.500000</td>\n",
       "      <td>183.750000</td>\n",
       "      <td>5.25000</td>\n",
       "      <td>3.500000</td>\n",
       "      <td>0.250000</td>\n",
       "      <td>3.00000</td>\n",
       "      <td>18.950000</td>\n",
       "      <td>22.080000</td>\n",
       "    </tr>\n",
       "    <tr>\n",
       "      <th>75%</th>\n",
       "      <td>0.830000</td>\n",
       "      <td>741.125000</td>\n",
       "      <td>343.000000</td>\n",
       "      <td>220.500000</td>\n",
       "      <td>7.00000</td>\n",
       "      <td>4.250000</td>\n",
       "      <td>0.400000</td>\n",
       "      <td>4.00000</td>\n",
       "      <td>31.667500</td>\n",
       "      <td>33.132500</td>\n",
       "    </tr>\n",
       "    <tr>\n",
       "      <th>max</th>\n",
       "      <td>0.980000</td>\n",
       "      <td>808.500000</td>\n",
       "      <td>416.500000</td>\n",
       "      <td>220.500000</td>\n",
       "      <td>7.00000</td>\n",
       "      <td>5.000000</td>\n",
       "      <td>0.400000</td>\n",
       "      <td>5.00000</td>\n",
       "      <td>43.100000</td>\n",
       "      <td>48.030000</td>\n",
       "    </tr>\n",
       "  </tbody>\n",
       "</table>\n",
       "</div>"
      ],
      "text/plain": [
       "       Relative Compactness  Surface Area   Wall Area   Roof Area  \\\n",
       "count            768.000000    768.000000  768.000000  768.000000   \n",
       "mean               0.764167    671.708333  318.500000  176.604167   \n",
       "std                0.105777     88.086116   43.626481   45.165950   \n",
       "min                0.620000    514.500000  245.000000  110.250000   \n",
       "25%                0.682500    606.375000  294.000000  140.875000   \n",
       "50%                0.750000    673.750000  318.500000  183.750000   \n",
       "75%                0.830000    741.125000  343.000000  220.500000   \n",
       "max                0.980000    808.500000  416.500000  220.500000   \n",
       "\n",
       "       Overall Height  Orientation  Glazing Area  Glazing Area Distributon  \\\n",
       "count       768.00000   768.000000    768.000000                 768.00000   \n",
       "mean          5.25000     3.500000      0.234375                   2.81250   \n",
       "std           1.75114     1.118763      0.133221                   1.55096   \n",
       "min           3.50000     2.000000      0.000000                   0.00000   \n",
       "25%           3.50000     2.750000      0.100000                   1.75000   \n",
       "50%           5.25000     3.500000      0.250000                   3.00000   \n",
       "75%           7.00000     4.250000      0.400000                   4.00000   \n",
       "max           7.00000     5.000000      0.400000                   5.00000   \n",
       "\n",
       "       Heating Load  Cooling Load  \n",
       "count    768.000000    768.000000  \n",
       "mean      22.307201     24.587760  \n",
       "std       10.090196      9.513306  \n",
       "min        6.010000     10.900000  \n",
       "25%       12.992500     15.620000  \n",
       "50%       18.950000     22.080000  \n",
       "75%       31.667500     33.132500  \n",
       "max       43.100000     48.030000  "
      ]
     },
     "execution_count": 5,
     "metadata": {},
     "output_type": "execute_result"
    }
   ],
   "source": [
    "# 2a) We have 8 features and 2 prediction targets - Heating Load and Cooling Load. Total of 768 samples.\n",
    "\n",
    "data.describe()"
   ]
  },
  {
   "cell_type": "code",
   "execution_count": 6,
   "metadata": {},
   "outputs": [
    {
     "name": "stderr",
     "output_type": "stream",
     "text": [
      "C:\\Users\\ver2bj\\AppData\\Local\\Continuum\\anaconda3\\lib\\site-packages\\numpy\\lib\\histograms.py:839: RuntimeWarning: invalid value encountered in greater_equal\n",
      "  keep = (tmp_a >= first_edge)\n",
      "C:\\Users\\ver2bj\\AppData\\Local\\Continuum\\anaconda3\\lib\\site-packages\\numpy\\lib\\histograms.py:840: RuntimeWarning: invalid value encountered in less_equal\n",
      "  keep &= (tmp_a <= last_edge)\n",
      "No handles with labels found to put in legend.\n"
     ]
    },
    {
     "data": {
      "text/plain": [
       "<matplotlib.legend.Legend at 0x23c2c449f28>"
      ]
     },
     "execution_count": 6,
     "metadata": {},
     "output_type": "execute_result"
    },
    {
     "data": {
      "image/png": "[encoded data removed]",
      "text/plain": [
       "<Figure size 432x288 with 1 Axes>"
      ]
     },
     "metadata": {
      "needs_background": "light"
     },
     "output_type": "display_data"
    }
   ],
   "source": [
    "plt.hist(data['Heating Load'])\n",
    "plt.hist(data['Cooling Load'])\n",
    "plt.legend()"
   ]
  },
  {
   "cell_type": "code",
   "execution_count": 7,
   "metadata": {},
   "outputs": [
    {
     "data": {
      "text/plain": [
       "Relative Compactness        0.495513\n",
       "Surface Area               -0.125131\n",
       "Wall Area                   0.533417\n",
       "Roof Area                  -0.162764\n",
       "Overall Height              0.000000\n",
       "Orientation                 0.000000\n",
       "Glazing Area               -0.060254\n",
       "Glazing Area Distributon   -0.088689\n",
       "Heating Load                0.360449\n",
       "Cooling Load                0.395992\n",
       "dtype: float64"
      ]
     },
     "execution_count": 7,
     "metadata": {},
     "output_type": "execute_result"
    }
   ],
   "source": [
    "data.skew()"
   ]
  },
  {
   "cell_type": "code",
   "execution_count": 8,
   "metadata": {},
   "outputs": [],
   "source": [
    "# Insights:\n",
    "# - Different magnitudes for different features. \n",
    "# - Height, orientation, glazing area are discrete and not continuous - they represent different types of buildings."
   ]
  },
  {
   "cell_type": "markdown",
   "metadata": {},
   "source": [
    "## 2c: use correlation matrix to understand existing links\n"
   ]
  },
  {
   "cell_type": "code",
   "execution_count": 9,
   "metadata": {},
   "outputs": [
    {
     "data": {
      "text/plain": [
       "<matplotlib.axes._subplots.AxesSubplot at 0x23c2c4ad198>"
      ]
     },
     "execution_count": 9,
     "metadata": {},
     "output_type": "execute_result"
    },
    {
     "data": {
      "image/png": "[encoded data removed]",
      "text/plain": [
       "<Figure size 1440x720 with 2 Axes>"
      ]
     },
     "metadata": {
      "needs_background": "light"
     },
     "output_type": "display_data"
    }
   ],
   "source": [
    "fig, ax = plt.subplots(figsize=(20,10)) # Sample figsize in inches\n",
    "sns.heatmap(data.corr(), annot=True, linewidths=.5, ax=ax)"
   ]
  },
  {
   "cell_type": "markdown",
   "metadata": {},
   "source": [
    "## 2c: use Seaborn heatmaps to understand trends of different features against target. This lets us explore the data and get early insight into leveraging independent variables.\n"
   ]
  },
  {
   "cell_type": "code",
   "execution_count": 10,
   "metadata": {},
   "outputs": [
    {
     "data": {
      "image/png": "[encoded data removed]",
      "text/plain": [
       "<Figure size 518.4x864 with 8 Axes>"
      ]
     },
     "metadata": {
      "needs_background": "light"
     },
     "output_type": "display_data"
    }
   ],
   "source": [
    "c = sns.catplot(y='Cooling Load',data=data,col='Overall Height',row='Orientation',\n",
    "                height=3, aspect=1.2)"
   ]
  },
  {
   "cell_type": "code",
   "execution_count": 11,
   "metadata": {},
   "outputs": [
    {
     "data": {
      "image/png": "[encoded data removed]",
      "text/plain": [
       "<Figure size 518.4x864 with 8 Axes>"
      ]
     },
     "metadata": {
      "needs_background": "light"
     },
     "output_type": "display_data"
    }
   ],
   "source": [
    "g = sns.catplot(y='Heating Load',data=data,col='Overall Height',row='Orientation',\n",
    "                height=3, aspect=1.2)"
   ]
  },
  {
   "cell_type": "code",
   "execution_count": 12,
   "metadata": {},
   "outputs": [
    {
     "data": {
      "image/png": "[encoded data removed]",
      "text/plain": [
       "<Figure size 432x288 with 1 Axes>"
      ]
     },
     "metadata": {
      "needs_background": "light"
     },
     "output_type": "display_data"
    }
   ],
   "source": [
    "g = sns.scatterplot(data['Roof Area'],data['Heating Load'])"
   ]
  },
  {
   "cell_type": "markdown",
   "metadata": {},
   "source": [
    "## Cumulative Insights of Relative Compactness, Surface Area, Wall Area, Roof Area, Overall Height, Orientation, Glazing Area\n",
    "\n",
    "### (1) Buiding height=3.5 has heating load of 10-20, height=7 has load of 25-45 independent of other features.\n",
    "### (2) Building orientation offers no clear visible correlation with heating or cooling load\n",
    "### (3) Heating and cooling loads increase with increased glazing area. \n",
    "### (4) Except for roof area of 220 which leads to lower energy loads, no connection between roof area and energy load.\n",
    "### (5) Surface area > 675 leads to smaller heating load. \n",
    "### (6) No clear correlation between wall area and heating load."
   ]
  },
  {
   "cell_type": "markdown",
   "metadata": {},
   "source": [
    "## 3) We will now transition efforts to modeling. Before that, we want to check:\n",
    "### - that all data is numeric to afford analysis\n",
    "### - that there are no null or na values and that existing skewness doesn't require log-transform of data"
   ]
  },
  {
   "cell_type": "code",
   "execution_count": 13,
   "metadata": {},
   "outputs": [
    {
     "data": {
      "text/plain": [
       "Relative Compactness        float64\n",
       "Surface Area                float64\n",
       "Wall Area                   float64\n",
       "Roof Area                   float64\n",
       "Overall Height              float64\n",
       "Orientation                 float64\n",
       "Glazing Area                float64\n",
       "Glazing Area Distributon    float64\n",
       "Heating Load                float64\n",
       "Cooling Load                float64\n",
       "dtype: object"
      ]
     },
     "execution_count": 13,
     "metadata": {},
     "output_type": "execute_result"
    }
   ],
   "source": [
    "data.dtypes # Confirmed that all numbers are numerical"
   ]
  },
  {
   "cell_type": "code",
   "execution_count": 14,
   "metadata": {},
   "outputs": [
    {
     "data": {
      "text/plain": [
       "Relative Compactness        0.495513\n",
       "Surface Area               -0.125131\n",
       "Wall Area                   0.533417\n",
       "Roof Area                  -0.162764\n",
       "Overall Height              0.000000\n",
       "Orientation                 0.000000\n",
       "Glazing Area               -0.060254\n",
       "Glazing Area Distributon   -0.088689\n",
       "Heating Load                0.360449\n",
       "Cooling Load                0.395992\n",
       "dtype: float64"
      ]
     },
     "execution_count": 14,
     "metadata": {},
     "output_type": "execute_result"
    }
   ],
   "source": [
    "data.dropna(inplace=True)\n",
    "data.skew() #All skewness values have absolute values < 1."
   ]
  },
  {
   "cell_type": "markdown",
   "metadata": {},
   "source": [
    "## 3b) Create x and y columns for Linear Regression Modeling.\n",
    "\n",
    "### First, use feature selection to determine best input variables to use in model. From analysis above, I'd expect glazing area, surface area, wall area, roof area, relative compactness (correlated with surface area) to be leveraging.\n",
    "### Use RFE and k-best features filtering with Pearson correlation coefficient.\n",
    "### Compare output of these feature selection exercises with seaborn catmaps. Is the narrative consistent?"
   ]
  },
  {
   "cell_type": "code",
   "execution_count": 15,
   "metadata": {},
   "outputs": [],
   "source": [
    "x = data.drop(columns=['Heating Load','Cooling Load'])\n",
    "y1 = data['Heating Load']\n",
    "y2 = data['Cooling Load']"
   ]
  },
  {
   "cell_type": "code",
   "execution_count": 16,
   "metadata": {},
   "outputs": [],
   "source": [
    "lm = LinearRegression()\n",
    "rfe = RFE(lm,5) #Try 5 from 8 features"
   ]
  },
  {
   "cell_type": "code",
   "execution_count": 17,
   "metadata": {},
   "outputs": [
    {
     "name": "stdout",
     "output_type": "stream",
     "text": [
      "Num Features: 5\n",
      "Selected Features: [ True  True  True  True False False  True False]\n",
      "Feature Ranking: [1 1 1 1 2 4 1 3]\n"
     ]
    }
   ],
   "source": [
    "fit = rfe.fit(x,y1)\n",
    "print(\"Num Features: %d\" % fit.n_features_)\n",
    "print(\"Selected Features: %s\" % fit.support_)\n",
    "print(\"Feature Ranking: %s\" % fit.ranking_)"
   ]
  },
  {
   "cell_type": "code",
   "execution_count": 18,
   "metadata": {},
   "outputs": [
    {
     "name": "stdout",
     "output_type": "stream",
     "text": [
      "[4.840e+02 5.853e+02 2.007e+02 2.212e+03 2.901e+03 5.125e-03 6.016e+01\n",
      " 5.892e+00]\n",
      "[[  0.98 514.5  110.25   7.  ]\n",
      " [  0.98 514.5  110.25   7.  ]\n",
      " [  0.98 514.5  110.25   7.  ]\n",
      " [  0.98 514.5  110.25   7.  ]\n",
      " [  0.9  563.5  122.5    7.  ]]\n"
     ]
    }
   ],
   "source": [
    "# feature extraction\n",
    "test = SelectKBest(score_func=f_regression, k=4)\n",
    "fit = test.fit(x,y1)\n",
    "# summarize scores\n",
    "set_printoptions(precision=3)\n",
    "print(fit.scores_)\n",
    "features = fit.transform(x)\n",
    "# summarize selected features\n",
    "print(features[0:5,:])"
   ]
  },
  {
   "cell_type": "code",
   "execution_count": 19,
   "metadata": {},
   "outputs": [],
   "source": [
    "# How do heatmap correlations compare with RFE? From RFE heatmap (Pearson corr # from heatmap)\n",
    "# relative compactness (0.62), surface area (0.67), wall area (0.43), roof area (0.86), glazing area (0.27)"
   ]
  },
  {
   "cell_type": "code",
   "execution_count": 20,
   "metadata": {},
   "outputs": [],
   "source": [
    "x.drop(columns=['Glazing Area Distributon','Orientation','Overall Height','Relative Compactness'],inplace=True)"
   ]
  },
  {
   "cell_type": "code",
   "execution_count": 21,
   "metadata": {},
   "outputs": [],
   "source": [
    "x1_train, x1_test, y1_train, y1_test = train_test_split(x, y1, test_size=0.33, random_state=42)\n",
    "x2_train, x2_test, y2_train, y2_test = train_test_split(x, y2, test_size=0.33, random_state=24)\n"
   ]
  },
  {
   "cell_type": "code",
   "execution_count": 22,
   "metadata": {},
   "outputs": [
    {
     "data": {
      "text/plain": [
       "<matplotlib.axes._subplots.AxesSubplot at 0x23c2e74a550>"
      ]
     },
     "execution_count": 22,
     "metadata": {},
     "output_type": "execute_result"
    },
    {
     "data": {
      "image/png": "[encoded data removed]",
      "text/plain": [
       "<Figure size 432x288 with 2 Axes>"
      ]
     },
     "metadata": {
      "needs_background": "light"
     },
     "output_type": "display_data"
    }
   ],
   "source": [
    "sns.heatmap(x.corr(),annot=True)"
   ]
  },
  {
   "cell_type": "code",
   "execution_count": 23,
   "metadata": {},
   "outputs": [],
   "source": [
    "x['Total SA'] = x['Roof Area'] + x['Wall Area']\n",
    "x.drop(columns=['Roof Area','Wall Area'],inplace=True)"
   ]
  },
  {
   "cell_type": "markdown",
   "metadata": {},
   "source": [
    "## 4a) Now create and check accuracy of Linear Regression using RMSE and comparing with standard deviation of original data."
   ]
  },
  {
   "cell_type": "code",
   "execution_count": 24,
   "metadata": {},
   "outputs": [],
   "source": [
    "# Generate two LinearRegression models\n",
    "lm_hot = LinearRegression()\n",
    "lm_cold = LinearRegression()"
   ]
  },
  {
   "cell_type": "code",
   "execution_count": 25,
   "metadata": {},
   "outputs": [
    {
     "name": "stdout",
     "output_type": "stream",
     "text": [
      "Root Mean Square Error for Heating Load prediction is 3.826\n",
      "This error, as percentage of Heating Load standard deviation, is 37.91\n",
      "Root Mean Square Error for Cooling Load prediction is 4.136\n",
      "This error, as percentage of Cooling Load standard deviation, is 43.48\n"
     ]
    }
   ],
   "source": [
    "lm_hot.fit(x1_train,y1_train)\n",
    "lm_cold.fit(x2_train,y2_train)\n",
    "\n",
    "y1_pred = lm_hot.predict(x1_test)\n",
    "y2_pred = lm_cold.predict(x2_test)\n",
    "\n",
    "Hot_Error = math.sqrt(mean_squared_error(y1_pred, y1_test))\n",
    "Cold_Error = math.sqrt(mean_squared_error(y2_pred, y2_test))\n",
    "\n",
    "print('Root Mean Square Error for Heating Load prediction is %s' % round(Hot_Error,3))\n",
    "print('This error, as percentage of Heating Load standard deviation, is %s' % round(Hot_Error/data['Heating Load'].std(axis=0)*100,2))\n",
    "\n",
    "print('Root Mean Square Error for Cooling Load prediction is %s' % round(Cold_Error,3))\n",
    "print('This error, as percentage of Cooling Load standard deviation, is %s' % round(Cold_Error/data['Cooling Load'].std(axis=0)*100,2))\n"
   ]
  },
  {
   "cell_type": "code",
   "execution_count": 26,
   "metadata": {},
   "outputs": [],
   "source": [
    "# What if we try cross validation lieu of test train split?\n",
    "FinalScore_Heat = np.average(cross_val_score(lm, x, y1, cv=6, scoring='r2'))\n",
    "FinalScore_Cool = np.average(cross_val_score(lm, x, y2, cv=6, scoring='r2'))"
   ]
  },
  {
   "cell_type": "code",
   "execution_count": 27,
   "metadata": {},
   "outputs": [
    {
     "name": "stdout",
     "output_type": "stream",
     "text": [
      "R-square of curve predicting Heating Load is 83.94\n",
      "R-square of curve predicting Cooling Load is 80.75\n"
     ]
    }
   ],
   "source": [
    "print('R-square of curve predicting Heating Load is %s' % round(FinalScore_Heat*100,2))\n",
    "print('R-square of curve predicting Cooling Load is %s' % round(FinalScore_Cool*100,2))"
   ]
  },
  {
   "cell_type": "code",
   "execution_count": 28,
   "metadata": {},
   "outputs": [],
   "source": [
    "FinalScore_Heat = []\n",
    "FinalScore_Cool = []\n",
    "\n",
    "for i in range(10):\n",
    "    Heat = np.average(cross_val_score(lm, x, y1, cv=i+2, scoring='r2'))\n",
    "    FinalScore_Heat.append(Heat)\n",
    "    Cool = np.average(cross_val_score(lm, x, y2, cv=i+2, scoring='r2'))\n",
    "    FinalScore_Cool.append(Cool)"
   ]
  },
  {
   "cell_type": "code",
   "execution_count": 29,
   "metadata": {},
   "outputs": [
    {
     "name": "stdout",
     "output_type": "stream",
     "text": [
      "Root Mean Square Error for Heating Load prediction is 2.967\n",
      "This error, as percentage of Heating Load standard deviation, is 29.4\n",
      "Root Mean Square Error for Cooling Load prediction is 3.325\n",
      "This error, as percentage of Cooling Load standard deviation, is 34.95\n"
     ]
    }
   ],
   "source": [
    "# Just curious; what if I hadn't dropped Glazing Distribution, orientation, height?\n",
    "\n",
    "x = data.drop(columns=['Heating Load','Cooling Load'])\n",
    "y1 = data['Heating Load']\n",
    "y2 = data['Cooling Load']\n",
    "\n",
    "x1_train, x1_test, y1_train, y1_test = train_test_split(x, y1, test_size=0.33, random_state=42)\n",
    "x2_train, x2_test, y2_train, y2_test = train_test_split(x, y2, test_size=0.33, random_state=24)\n",
    "\n",
    "lm_hot.fit(x1_train,y1_train)\n",
    "lm_cold.fit(x2_train,y2_train)\n",
    "\n",
    "y1_pred = lm_hot.predict(x1_test)\n",
    "y2_pred = lm_cold.predict(x2_test)\n",
    "\n",
    "Hot_Error = math.sqrt(mean_squared_error(y1_pred, y1_test))\n",
    "Cold_Error = math.sqrt(mean_squared_error(y2_pred, y2_test))\n",
    "\n",
    "print('Root Mean Square Error for Heating Load prediction is %s' % round(Hot_Error,3))\n",
    "print('This error, as percentage of Heating Load standard deviation, is %s' % round(Hot_Error/data['Heating Load'].std(axis=0)*100,2))\n",
    "\n",
    "print('Root Mean Square Error for Cooling Load prediction is %s' % round(Cold_Error,3))\n",
    "print('This error, as percentage of Cooling Load standard deviation, is %s' % round(Cold_Error/data['Cooling Load'].std(axis=0)*100,2))\n"
   ]
  },
  {
   "cell_type": "code",
   "execution_count": 30,
   "metadata": {},
   "outputs": [],
   "source": [
    "# Just curious; what if I create one Total SA feature and drop contributing surface areas?\n",
    "x['Total SA'] = x['Surface Area'] + x['Wall Area'] + x['Roof Area']\n",
    "x.drop(columns=['Surface Area','Wall Area','Roof Area'],inplace=True)"
   ]
  },
  {
   "cell_type": "code",
   "execution_count": 31,
   "metadata": {},
   "outputs": [
    {
     "name": "stdout",
     "output_type": "stream",
     "text": [
      "Root Mean Square Error for Heating Load prediction is 3.076\n",
      "This error, as percentage of Heating Load standard deviation, is 30.48\n",
      "Root Mean Square Error for Cooling Load prediction is 3.423\n",
      "This error, as percentage of Cooling Load standard deviation, is 35.98\n"
     ]
    }
   ],
   "source": [
    "y1 = data['Heating Load']\n",
    "y2 = data['Cooling Load']\n",
    "\n",
    "x1_train, x1_test, y1_train, y1_test = train_test_split(x, y1, test_size=0.33, random_state=42)\n",
    "x2_train, x2_test, y2_train, y2_test = train_test_split(x, y2, test_size=0.33, random_state=24)\n",
    "\n",
    "lm_hot.fit(x1_train,y1_train)\n",
    "lm_cold.fit(x2_train,y2_train)\n",
    "\n",
    "y1_pred = lm_hot.predict(x1_test)\n",
    "y2_pred = lm_cold.predict(x2_test)\n",
    "\n",
    "Hot_Error = math.sqrt(mean_squared_error(y1_pred, y1_test))\n",
    "Cold_Error = math.sqrt(mean_squared_error(y2_pred, y2_test))\n",
    "\n",
    "print('Root Mean Square Error for Heating Load prediction is %s' % round(Hot_Error,3))\n",
    "print('This error, as percentage of Heating Load standard deviation, is %s' % round(Hot_Error/data['Heating Load'].std(axis=0)*100,2))\n",
    "\n",
    "print('Root Mean Square Error for Cooling Load prediction is %s' % round(Cold_Error,3))\n",
    "print('This error, as percentage of Cooling Load standard deviation, is %s' % round(Cold_Error/data['Cooling Load'].std(axis=0)*100,2))\n"
   ]
  },
  {
   "cell_type": "code",
   "execution_count": 32,
   "metadata": {},
   "outputs": [],
   "source": [
    "# x['Total SA'] = x['Surface Area'] + x['Wall Area'] + x['Roof Area']\n",
    "x.drop(columns=['Relative Compactness'],inplace=True)"
   ]
  },
  {
   "cell_type": "code",
   "execution_count": 33,
   "metadata": {},
   "outputs": [
    {
     "name": "stdout",
     "output_type": "stream",
     "text": [
      "Root Mean Square Error for Heating Load prediction is 3.075\n",
      "This error, as percentage of Heating Load standard deviation, is 30.48\n",
      "Root Mean Square Error for Cooling Load prediction is 3.429\n",
      "This error, as percentage of Cooling Load standard deviation, is 36.05\n"
     ]
    }
   ],
   "source": [
    "y1 = data['Heating Load']\n",
    "y2 = data['Cooling Load']\n",
    "\n",
    "x1_train, x1_test, y1_train, y1_test = train_test_split(x, y1, test_size=0.33, random_state=42)\n",
    "x2_train, x2_test, y2_train, y2_test = train_test_split(x, y2, test_size=0.33, random_state=24)\n",
    "\n",
    "lm_hot.fit(x1_train,y1_train)\n",
    "lm_cold.fit(x2_train,y2_train)\n",
    "\n",
    "y1_pred = lm_hot.predict(x1_test)\n",
    "y2_pred = lm_cold.predict(x2_test)\n",
    "\n",
    "Hot_Error = math.sqrt(mean_squared_error(y1_pred, y1_test))\n",
    "Cold_Error = math.sqrt(mean_squared_error(y2_pred, y2_test))\n",
    "\n",
    "print('Root Mean Square Error for Heating Load prediction is %s' % round(Hot_Error,3))\n",
    "print('This error, as percentage of Heating Load standard deviation, is %s' % round(Hot_Error/data['Heating Load'].std(axis=0)*100,2))\n",
    "\n",
    "print('Root Mean Square Error for Cooling Load prediction is %s' % round(Cold_Error,3))\n",
    "print('This error, as percentage of Cooling Load standard deviation, is %s' % round(Cold_Error/data['Cooling Load'].std(axis=0)*100,2))\n"
   ]
  },
  {
   "cell_type": "code",
   "execution_count": 34,
   "metadata": {},
   "outputs": [
    {
     "name": "stdout",
     "output_type": "stream",
     "text": [
      "Root Mean Square Error for Heating Load prediction is 2.965\n",
      "This error, as percentage of Heating Load standard deviation, is 29.38\n",
      "Root Mean Square Error for Cooling Load prediction is 3.324\n",
      "This error, as percentage of Cooling Load standard deviation, is 34.94\n"
     ]
    }
   ],
   "source": [
    "x = data.drop(columns=['Heating Load','Cooling Load'])\n",
    "y1 = data['Heating Load']\n",
    "y2 = data['Cooling Load']\n",
    "\n",
    "std = StandardScaler()\n",
    "x_std = std.fit(x).transform(x)\n",
    "\n",
    "x1_train, x1_test, y1_train, y1_test = train_test_split(x_std, y1, test_size=0.33, random_state=42)\n",
    "x2_train, x2_test, y2_train, y2_test = train_test_split(x_std, y2, test_size=0.33, random_state=24)\n",
    "\n",
    "lm_hot.fit(x1_train,y1_train)\n",
    "lm_cold.fit(x2_train,y2_train)\n",
    "\n",
    "y1_pred_lin = lm_hot.predict(x1_test)\n",
    "y2_pred_lin = lm_cold.predict(x2_test)\n",
    "\n",
    "Hot_Error = math.sqrt(mean_squared_error(y1_pred_lin, y1_test))\n",
    "Cold_Error = math.sqrt(mean_squared_error(y2_pred_lin, y2_test))\n",
    "\n",
    "print('Root Mean Square Error for Heating Load prediction is %s' % round(Hot_Error,3))\n",
    "print('This error, as percentage of Heating Load standard deviation, is %s' % round(Hot_Error/data['Heating Load'].std(axis=0)*100,2))\n",
    "\n",
    "print('Root Mean Square Error for Cooling Load prediction is %s' % round(Cold_Error,3))\n",
    "print('This error, as percentage of Cooling Load standard deviation, is %s' % round(Cold_Error/data['Cooling Load'].std(axis=0)*100,2))\n"
   ]
  },
  {
   "cell_type": "code",
   "execution_count": 35,
   "metadata": {},
   "outputs": [
    {
     "name": "stdout",
     "output_type": "stream",
     "text": [
      "90.8 percent of variance in hot load prediction is explained\n",
      "86.7 percent of variance in cold load prediction is explained\n"
     ]
    }
   ],
   "source": [
    "Hot_lin_ExpVar = explained_variance_score(y1_pred_lin,y1_test)\n",
    "Cold_lin_ExpVar = explained_variance_score(y2_pred_lin,y2_test)\n",
    "\n",
    "print('%s percent of variance in hot load prediction is explained' % round(Hot_lin_ExpVar*100,1))\n",
    "print('%s percent of variance in cold load prediction is explained' % round(Cold_lin_ExpVar*100,1))"
   ]
  },
  {
   "cell_type": "markdown",
   "metadata": {},
   "source": [
    "## 4b) Now create and check accuracy of Classification models.\n",
    "### First, this requires creating crisp classes of output variables by rounding Heating and Cooling loads."
   ]
  },
  {
   "cell_type": "code",
   "execution_count": 36,
   "metadata": {},
   "outputs": [
    {
     "data": {
      "text/html": [
       "<div>\n",
       "<style scoped>\n",
       "    .dataframe tbody tr th:only-of-type {\n",
       "        vertical-align: middle;\n",
       "    }\n",
       "\n",
       "    .dataframe tbody tr th {\n",
       "        vertical-align: top;\n",
       "    }\n",
       "\n",
       "    .dataframe thead th {\n",
       "        text-align: right;\n",
       "    }\n",
       "</style>\n",
       "<table border=\"1\" class=\"dataframe\">\n",
       "  <thead>\n",
       "    <tr style=\"text-align: right;\">\n",
       "      <th></th>\n",
       "      <th>Relative Compactness</th>\n",
       "      <th>Surface Area</th>\n",
       "      <th>Wall Area</th>\n",
       "      <th>Roof Area</th>\n",
       "      <th>Overall Height</th>\n",
       "      <th>Orientation</th>\n",
       "      <th>Glazing Area</th>\n",
       "      <th>Glazing Area Distributon</th>\n",
       "      <th>Heating Load</th>\n",
       "      <th>Cooling Load</th>\n",
       "    </tr>\n",
       "  </thead>\n",
       "  <tbody>\n",
       "    <tr>\n",
       "      <th>0</th>\n",
       "      <td>0.98</td>\n",
       "      <td>514.5</td>\n",
       "      <td>294.0</td>\n",
       "      <td>110.25</td>\n",
       "      <td>7.0</td>\n",
       "      <td>2.0</td>\n",
       "      <td>0.0</td>\n",
       "      <td>0.0</td>\n",
       "      <td>15.55</td>\n",
       "      <td>21.33</td>\n",
       "    </tr>\n",
       "    <tr>\n",
       "      <th>1</th>\n",
       "      <td>0.98</td>\n",
       "      <td>514.5</td>\n",
       "      <td>294.0</td>\n",
       "      <td>110.25</td>\n",
       "      <td>7.0</td>\n",
       "      <td>3.0</td>\n",
       "      <td>0.0</td>\n",
       "      <td>0.0</td>\n",
       "      <td>15.55</td>\n",
       "      <td>21.33</td>\n",
       "    </tr>\n",
       "    <tr>\n",
       "      <th>2</th>\n",
       "      <td>0.98</td>\n",
       "      <td>514.5</td>\n",
       "      <td>294.0</td>\n",
       "      <td>110.25</td>\n",
       "      <td>7.0</td>\n",
       "      <td>4.0</td>\n",
       "      <td>0.0</td>\n",
       "      <td>0.0</td>\n",
       "      <td>15.55</td>\n",
       "      <td>21.33</td>\n",
       "    </tr>\n",
       "    <tr>\n",
       "      <th>3</th>\n",
       "      <td>0.98</td>\n",
       "      <td>514.5</td>\n",
       "      <td>294.0</td>\n",
       "      <td>110.25</td>\n",
       "      <td>7.0</td>\n",
       "      <td>5.0</td>\n",
       "      <td>0.0</td>\n",
       "      <td>0.0</td>\n",
       "      <td>15.55</td>\n",
       "      <td>21.33</td>\n",
       "    </tr>\n",
       "    <tr>\n",
       "      <th>4</th>\n",
       "      <td>0.90</td>\n",
       "      <td>563.5</td>\n",
       "      <td>318.5</td>\n",
       "      <td>122.50</td>\n",
       "      <td>7.0</td>\n",
       "      <td>2.0</td>\n",
       "      <td>0.0</td>\n",
       "      <td>0.0</td>\n",
       "      <td>20.84</td>\n",
       "      <td>28.28</td>\n",
       "    </tr>\n",
       "  </tbody>\n",
       "</table>\n",
       "</div>"
      ],
      "text/plain": [
       "   Relative Compactness  Surface Area  Wall Area  Roof Area  Overall Height  \\\n",
       "0                  0.98         514.5      294.0     110.25             7.0   \n",
       "1                  0.98         514.5      294.0     110.25             7.0   \n",
       "2                  0.98         514.5      294.0     110.25             7.0   \n",
       "3                  0.98         514.5      294.0     110.25             7.0   \n",
       "4                  0.90         563.5      318.5     122.50             7.0   \n",
       "\n",
       "   Orientation  Glazing Area  Glazing Area Distributon  Heating Load  \\\n",
       "0          2.0           0.0                       0.0         15.55   \n",
       "1          3.0           0.0                       0.0         15.55   \n",
       "2          4.0           0.0                       0.0         15.55   \n",
       "3          5.0           0.0                       0.0         15.55   \n",
       "4          2.0           0.0                       0.0         20.84   \n",
       "\n",
       "   Cooling Load  \n",
       "0         21.33  \n",
       "1         21.33  \n",
       "2         21.33  \n",
       "3         21.33  \n",
       "4         28.28  "
      ]
     },
     "execution_count": 36,
     "metadata": {},
     "output_type": "execute_result"
    }
   ],
   "source": [
    "data = pd.read_csv('ENB2012_data.csv')\n",
    "data.dropna(inplace=True)\n",
    "data.head()"
   ]
  },
  {
   "cell_type": "code",
   "execution_count": 37,
   "metadata": {},
   "outputs": [],
   "source": [
    "data['Heating Load'] = round(data['Heating Load'])\n",
    "data['Cooling Load'] = round(data['Cooling Load'])"
   ]
  },
  {
   "cell_type": "code",
   "execution_count": 38,
   "metadata": {},
   "outputs": [],
   "source": [
    "class_counts_heat = data.groupby('Heating Load').size()\n",
    "class_counts_cool = data.groupby('Cooling Load').size()"
   ]
  },
  {
   "cell_type": "code",
   "execution_count": 39,
   "metadata": {},
   "outputs": [],
   "source": [
    "## Let's also check features chosen for classification vs. regression\n",
    "x = data.drop(columns=['Heating Load','Cooling Load'])\n",
    "y1 = data['Heating Load']\n",
    "y2 = data['Cooling Load']\n",
    "\n",
    "std = StandardScaler()\n",
    "x_scaled = std.fit(x).transform(x)"
   ]
  },
  {
   "cell_type": "code",
   "execution_count": 40,
   "metadata": {},
   "outputs": [
    {
     "name": "stdout",
     "output_type": "stream",
     "text": [
      "Num Features: 5\n",
      "Selected Features: [ True False  True  True  True False  True False]\n",
      "Feature Ranking: [1 3 1 1 1 4 1 2]\n"
     ]
    }
   ],
   "source": [
    "lr = LogisticRegression(multi_class='auto',max_iter=2000)\n",
    "rfe = RFE(lr,5) #Try 5 from 8 features\n",
    "\n",
    "fit = rfe.fit(x_scaled,y1)\n",
    "print(\"Num Features: %d\" % fit.n_features_)\n",
    "print(\"Selected Features: %s\" % fit.support_)\n",
    "print(\"Feature Ranking: %s\" % fit.ranking_)"
   ]
  },
  {
   "cell_type": "code",
   "execution_count": 41,
   "metadata": {},
   "outputs": [],
   "source": [
    "x1_train, x1_test, y1_train, y1_test = train_test_split(x, y1, test_size=0.33, random_state=42)\n",
    "x2_train, x2_test, y2_train, y2_test = train_test_split(x, y2, test_size=0.33, random_state=24)"
   ]
  },
  {
   "cell_type": "code",
   "execution_count": 42,
   "metadata": {},
   "outputs": [],
   "source": [
    "x1_train_sc, x1_test_sc, y1_train, y1_test = train_test_split(x_scaled, y1, test_size=0.33, random_state=42)\n",
    "x2_train_sc, x2_test_sc, y2_train, y2_test = train_test_split(x_scaled, y2, test_size=0.33, random_state=24)\n",
    "\n",
    "# Generate two LogReg models\n",
    "lr_hot = LogisticRegression(multi_class='auto',max_iter=2000)\n",
    "lr_cold = LogisticRegression(multi_class='auto',max_iter=2000)\n",
    "\n",
    "lr_hot.fit(x1_train_sc,y1_train)\n",
    "lr_cold.fit(x2_train_sc,y2_train)\n",
    "\n",
    "y1_pred_log = lr_hot.predict(x1_test_sc)\n",
    "y2_pred_log = lr_cold.predict(x2_test_sc)"
   ]
  },
  {
   "cell_type": "code",
   "execution_count": 43,
   "metadata": {},
   "outputs": [
    {
     "name": "stdout",
     "output_type": "stream",
     "text": [
      "Kappa score for heat loading is only \"fair\", given score of 0.27\n",
      "Kappa score for cold loading is only \"fair\", given score of 0.29\n"
     ]
    }
   ],
   "source": [
    "Cohen_Kappa_hot = cohen_kappa_score(y1_test,y1_pred_log)\n",
    "Cohen_Kappa_cold = cohen_kappa_score(y2_test,y2_pred_log)\n",
    "\n",
    "print('Kappa score for heat loading is only \"fair\", given score of %s' % round(Cohen_Kappa_hot,2))\n",
    "print('Kappa score for cold loading is only \"fair\", given score of %s' % round(Cohen_Kappa_cold,2))"
   ]
  },
  {
   "cell_type": "code",
   "execution_count": 44,
   "metadata": {},
   "outputs": [],
   "source": [
    "# Select KBest above chose 'compactness','wall area','roof area','height','glazing area'.\n",
    "x.drop(columns=['Glazing Area Distributon','Overall Height','Orientation'],inplace=True)\n",
    "\n",
    "x_scaled = std.fit(x).transform(x)"
   ]
  },
  {
   "cell_type": "code",
   "execution_count": 45,
   "metadata": {},
   "outputs": [],
   "source": [
    "x1_train_sc, x1_test_sc, y1_train, y1_test = train_test_split(x_scaled, y1, test_size=0.33, random_state=42)\n",
    "x2_train_sc, x2_test_sc, y2_train, y2_test = train_test_split(x_scaled, y2, test_size=0.33, random_state=24)\n",
    "\n",
    "# Generate two LogReg models\n",
    "lr_hot = LogisticRegression(multi_class='auto',max_iter=2000)\n",
    "lr_cold = LogisticRegression(multi_class='auto',max_iter=2000)\n",
    "\n",
    "lr_hot.fit(x1_train_sc,y1_train)\n",
    "lr_cold.fit(x2_train_sc,y2_train)\n",
    "\n",
    "y1_pred_log = lr_hot.predict(x1_test_sc)\n",
    "y2_pred_log = lr_cold.predict(x2_test_sc)"
   ]
  },
  {
   "cell_type": "code",
   "execution_count": 46,
   "metadata": {},
   "outputs": [
    {
     "name": "stdout",
     "output_type": "stream",
     "text": [
      "Kappa score for heat loading is still only \"fair\", given score of 0.24\n",
      "Kappa score for cold loading is still only \"fair\", given score of 0.3\n"
     ]
    }
   ],
   "source": [
    "Cohen_Kappa_hot = cohen_kappa_score(y1_test,y1_pred_log)\n",
    "Cohen_Kappa_cold = cohen_kappa_score(y2_test,y2_pred_log)\n",
    "\n",
    "print('Kappa score for heat loading is still only \"fair\", given score of %s' % round(Cohen_Kappa_hot,2))\n",
    "print('Kappa score for cold loading is still only \"fair\", given score of %s' % round(Cohen_Kappa_cold,2))"
   ]
  },
  {
   "cell_type": "markdown",
   "metadata": {},
   "source": [
    "## 4c) Can the scores above be improved? Let's try some regression models and some more classifiers with a list of models and for loop\n",
    "\n",
    "### We'll first create the required instances of models in a 'classfiers' vector and run through these in fitting, predicting on test set."
   ]
  },
  {
   "cell_type": "code",
   "execution_count": 47,
   "metadata": {},
   "outputs": [],
   "source": [
    "names = [\"Nearest Neighbors\", \"Linear SVM\", \"RBF SVM\", \"Gaussian Process\",\n",
    "         \"Decision Tree\", \"Random Forest\", \"Neural Net\", \"AdaBoost\",\n",
    "         \"Naive Bayes\", \"QDA\"]\n",
    "\n",
    "classifiers = [\n",
    "    KNeighborsClassifier(7,weights='distance',algorithm='kd_tree'),\n",
    "    SVC(gamma=9, C=2),\n",
    "    DecisionTreeClassifier(),\n",
    "    RandomForestClassifier(),\n",
    "    AdaBoostClassifier(),\n",
    "    GaussianNB(),\n",
    "    XGBClassifier(),\n",
    "    DummyClassifier()]"
   ]
  },
  {
   "cell_type": "code",
   "execution_count": 48,
   "metadata": {},
   "outputs": [],
   "source": [
    "x = data.drop(columns=['Heating Load','Cooling Load'])\n",
    "y1 = data['Heating Load']\n",
    "y2 = data['Cooling Load']\n",
    "\n",
    "y1 = round(y1)\n",
    "y2 = round(y2)"
   ]
  },
  {
   "cell_type": "code",
   "execution_count": 49,
   "metadata": {},
   "outputs": [],
   "source": [
    "x['Total Area'] = x['Surface Area'] + x['Roof Area'] + x['Wall Area']\n",
    "x.drop(columns=['Glazing Area Distributon','Overall Height','Orientation'],inplace=True)\n",
    "\n",
    "std = StandardScaler()\n",
    "\n",
    "x_scaled = std.fit(x).transform(x)"
   ]
  },
  {
   "cell_type": "code",
   "execution_count": 50,
   "metadata": {},
   "outputs": [
    {
     "name": "stderr",
     "output_type": "stream",
     "text": [
      "C:\\Users\\ver2bj\\AppData\\Local\\Continuum\\anaconda3\\lib\\site-packages\\sklearn\\dummy.py:132: FutureWarning: The default value of strategy will change from stratified to prior in 0.24.\n",
      "  \"stratified to prior in 0.24.\", FutureWarning)\n"
     ]
    }
   ],
   "source": [
    "Heating_Load_Kappa = []\n",
    "Cooling_Load_Kappa = []\n",
    "\n",
    "for name, clf in zip(names, classifiers):\n",
    "    x1_train_sc, x1_test_sc, y1_train, y1_test = train_test_split(x_scaled, y1, test_size=0.1, random_state=42)\n",
    "    x2_train_sc, x2_test_sc, y2_train, y2_test = train_test_split(x_scaled, y2, test_size=0.2, random_state=24)\n",
    "    clf.fit(x1_train_sc, y1_train)\n",
    "    y1_pred = clf.predict(x1_test_sc)\n",
    "    Cohen_Kappa_hot = round(cohen_kappa_score(y1_test,y1_pred),2)\n",
    "    Heating_Load_Kappa.append(Cohen_Kappa_hot)\n",
    "    \n",
    "    clf.fit(x2_train_sc, y2_train)\n",
    "    y2_pred = clf.predict(x2_test_sc)\n",
    "    y2_prob_pred = clf.predict(x2_test_sc)\n",
    "    Cohen_Kappa_cold = round(cohen_kappa_score(y2_test,y2_pred),2)    \n",
    "    Cooling_Load_Kappa.append(Cohen_Kappa_cold)\n",
    "\n"
   ]
  },
  {
   "cell_type": "code",
   "execution_count": 51,
   "metadata": {},
   "outputs": [],
   "source": [
    "from pandas import DataFrame\n",
    "\n",
    "Heating_Load_Prediction_kappa = DataFrame([Heating_Load_Kappa],columns=['KNeighborsClassifier','SVC',\n",
    "                                                                      'Decision Tree Classifier','Random Forest Classifier',\n",
    "                                                                      'AdaBoost Classifier','GaussianNB','XGB','Dummy'])\n",
    "\n",
    "Cooling_Load_Prediction_kappa = DataFrame([Cooling_Load_Kappa],columns=['KNeighborsClassifier','SVC',\n",
    "                                                                      'Decision Tree Classifier','Random Forest Classifier',\n",
    "                                                                      'AdaBoost Classifier','GaussianNB','XGB','Dummy'])"
   ]
  },
  {
   "cell_type": "code",
   "execution_count": 52,
   "metadata": {},
   "outputs": [
    {
     "data": {
      "text/html": [
       "<div>\n",
       "<style scoped>\n",
       "    .dataframe tbody tr th:only-of-type {\n",
       "        vertical-align: middle;\n",
       "    }\n",
       "\n",
       "    .dataframe tbody tr th {\n",
       "        vertical-align: top;\n",
       "    }\n",
       "\n",
       "    .dataframe thead th {\n",
       "        text-align: right;\n",
       "    }\n",
       "</style>\n",
       "<table border=\"1\" class=\"dataframe\">\n",
       "  <thead>\n",
       "    <tr style=\"text-align: right;\">\n",
       "      <th></th>\n",
       "      <th>KNeighborsClassifier</th>\n",
       "      <th>SVC</th>\n",
       "      <th>Decision Tree Classifier</th>\n",
       "      <th>Random Forest Classifier</th>\n",
       "      <th>AdaBoost Classifier</th>\n",
       "      <th>GaussianNB</th>\n",
       "      <th>XGB</th>\n",
       "      <th>Dummy</th>\n",
       "    </tr>\n",
       "  </thead>\n",
       "  <tbody>\n",
       "    <tr>\n",
       "      <th>0</th>\n",
       "      <td>0.63</td>\n",
       "      <td>0.63</td>\n",
       "      <td>0.63</td>\n",
       "      <td>0.63</td>\n",
       "      <td>0.05</td>\n",
       "      <td>0.31</td>\n",
       "      <td>0.63</td>\n",
       "      <td>0.01</td>\n",
       "    </tr>\n",
       "  </tbody>\n",
       "</table>\n",
       "</div>"
      ],
      "text/plain": [
       "   KNeighborsClassifier   SVC  Decision Tree Classifier  \\\n",
       "0                  0.63  0.63                      0.63   \n",
       "\n",
       "   Random Forest Classifier  AdaBoost Classifier  GaussianNB   XGB  Dummy  \n",
       "0                      0.63                 0.05        0.31  0.63   0.01  "
      ]
     },
     "execution_count": 52,
     "metadata": {},
     "output_type": "execute_result"
    }
   ],
   "source": [
    "Heating_Load_Prediction_kappa"
   ]
  },
  {
   "cell_type": "code",
   "execution_count": 53,
   "metadata": {},
   "outputs": [
    {
     "data": {
      "text/html": [
       "<div>\n",
       "<style scoped>\n",
       "    .dataframe tbody tr th:only-of-type {\n",
       "        vertical-align: middle;\n",
       "    }\n",
       "\n",
       "    .dataframe tbody tr th {\n",
       "        vertical-align: top;\n",
       "    }\n",
       "\n",
       "    .dataframe thead th {\n",
       "        text-align: right;\n",
       "    }\n",
       "</style>\n",
       "<table border=\"1\" class=\"dataframe\">\n",
       "  <thead>\n",
       "    <tr style=\"text-align: right;\">\n",
       "      <th></th>\n",
       "      <th>KNeighborsClassifier</th>\n",
       "      <th>SVC</th>\n",
       "      <th>Decision Tree Classifier</th>\n",
       "      <th>Random Forest Classifier</th>\n",
       "      <th>AdaBoost Classifier</th>\n",
       "      <th>GaussianNB</th>\n",
       "      <th>XGB</th>\n",
       "      <th>Dummy</th>\n",
       "    </tr>\n",
       "  </thead>\n",
       "  <tbody>\n",
       "    <tr>\n",
       "      <th>0</th>\n",
       "      <td>0.5</td>\n",
       "      <td>0.52</td>\n",
       "      <td>0.54</td>\n",
       "      <td>0.51</td>\n",
       "      <td>0.12</td>\n",
       "      <td>0.43</td>\n",
       "      <td>0.51</td>\n",
       "      <td>0.0</td>\n",
       "    </tr>\n",
       "  </tbody>\n",
       "</table>\n",
       "</div>"
      ],
      "text/plain": [
       "   KNeighborsClassifier   SVC  Decision Tree Classifier  \\\n",
       "0                   0.5  0.52                      0.54   \n",
       "\n",
       "   Random Forest Classifier  AdaBoost Classifier  GaussianNB   XGB  Dummy  \n",
       "0                      0.51                 0.12        0.43  0.51    0.0  "
      ]
     },
     "execution_count": 53,
     "metadata": {},
     "output_type": "execute_result"
    }
   ],
   "source": [
    "Cooling_Load_Prediction_kappa"
   ]
  },
  {
   "cell_type": "code",
   "execution_count": 54,
   "metadata": {},
   "outputs": [],
   "source": [
    "# Drop AdaBoost and GaussianNB - focus on tuning other four Classifiers. "
   ]
  },
  {
   "cell_type": "code",
   "execution_count": 55,
   "metadata": {},
   "outputs": [
    {
     "data": {
      "image/png": "[encoded data removed]",
      "text/plain": [
       "<Figure size 432x288 with 1 Axes>"
      ]
     },
     "metadata": {
      "needs_background": "light"
     },
     "output_type": "display_data"
    }
   ],
   "source": [
    "Heating_Load_Kappa = []\n",
    "Cooling_Load_Kappa = []\n",
    "\n",
    "neighbors = list(range(1,30))\n",
    "\n",
    "for n in neighbors:\n",
    "    \n",
    "    model = KNeighborsClassifier(n_neighbors=n,weights='distance',algorithm='kd_tree')\n",
    "    model.fit(x1_train_sc, y1_train)\n",
    "    y1_pred = model.predict(x1_test_sc)\n",
    "    Cohen_Kappa_hot = round(cohen_kappa_score(y1_test,y1_pred),2)\n",
    "    \n",
    "    model.fit(x2_train_sc, y2_train)\n",
    "    y2_pred = model.predict(x2_test_sc)\n",
    "    Cohen_Kappa_cold = round(cohen_kappa_score(y2_test,y2_pred),2)\n",
    "    \n",
    "    Heating_Load_Kappa.append(Cohen_Kappa_hot)\n",
    "    Cooling_Load_Kappa.append(Cohen_Kappa_cold)\n",
    "    \n",
    "\n",
    "\n",
    "line1, = plt.plot(neighbors, Heating_Load_Kappa, 'r', label = 'Heating Load kappa')\n",
    "line2, = plt.plot(neighbors, Cooling_Load_Kappa, 'b', label = 'Cooling Load kappa')\n",
    "plt.legend(handler_map={line1: HandlerLine2D(numpoints=2)})\n",
    "plt.ylabel('kappa')\n",
    "plt.xlabel('n_neighbors')\n",
    "plt.title('KNN - vary n_neighbors')\n",
    "plt.show()"
   ]
  },
  {
   "cell_type": "code",
   "execution_count": 56,
   "metadata": {},
   "outputs": [
    {
     "data": {
      "image/png": "[encoded data removed]",
      "text/plain": [
       "<Figure size 432x288 with 1 Axes>"
      ]
     },
     "metadata": {
      "needs_background": "light"
     },
     "output_type": "display_data"
    }
   ],
   "source": [
    "Heating_Load_Kappa = []\n",
    "Cooling_Load_Kappa = []\n",
    "\n",
    "leaf_sizes = list(range(1,30))\n",
    "\n",
    "for l in leaf_sizes:\n",
    "    \n",
    "    model = KNeighborsClassifier(leaf_size=l,weights='distance',algorithm='kd_tree')\n",
    "    model.fit(x1_train_sc, y1_train)\n",
    "    y1_pred = model.predict(x1_test_sc)\n",
    "    Cohen_Kappa_hot = round(cohen_kappa_score(y1_test,y1_pred),2)\n",
    "    \n",
    "    model.fit(x2_train_sc, y2_train)\n",
    "    y2_pred = model.predict(x2_test_sc)\n",
    "    Cohen_Kappa_cold = round(cohen_kappa_score(y2_test,y2_pred),2)\n",
    "    \n",
    "    Heating_Load_Kappa.append(Cohen_Kappa_hot)\n",
    "    Cooling_Load_Kappa.append(Cohen_Kappa_cold)\n",
    "    \n",
    "\n",
    "\n",
    "line1, = plt.plot(neighbors, Heating_Load_Kappa, 'r', label = 'Heating Load kappa')\n",
    "line2, = plt.plot(neighbors, Cooling_Load_Kappa, 'b', label = 'Cooling Load kappa')\n",
    "plt.legend(handler_map={line1: HandlerLine2D(numpoints=2)})\n",
    "plt.ylabel('kappa')\n",
    "plt.xlabel('Leaf Size')\n",
    "plt.title('KNN - vary leaf size')\n",
    "plt.show()"
   ]
  },
  {
   "cell_type": "code",
   "execution_count": 57,
   "metadata": {},
   "outputs": [
    {
     "data": {
      "image/png": "[encoded data removed]",
      "text/plain": [
       "<Figure size 432x288 with 1 Axes>"
      ]
     },
     "metadata": {
      "needs_background": "light"
     },
     "output_type": "display_data"
    }
   ],
   "source": [
    "Heating_Load_Kappa = []\n",
    "Cooling_Load_Kappa = []\n",
    "\n",
    "max_depths = np.linspace(1, 32, 32, endpoint=True)\n",
    "\n",
    "for md in max_depths:\n",
    "    \n",
    "    model = DecisionTreeClassifier(max_depth=md)\n",
    "    model.fit(x1_train_sc, y1_train)\n",
    "    y1_pred = model.predict(x1_test_sc)\n",
    "    Cohen_Kappa_hot = round(cohen_kappa_score(y1_test,y1_pred),2)\n",
    "    \n",
    "    model.fit(x2_train_sc, y2_train)\n",
    "    y2_pred = model.predict(x2_test_sc)\n",
    "    Cohen_Kappa_cold = round(cohen_kappa_score(y2_test,y2_pred),2)\n",
    "    \n",
    "    Heating_Load_Kappa.append(Cohen_Kappa_hot)\n",
    "    Cooling_Load_Kappa.append(Cohen_Kappa_cold)\n",
    "    \n",
    "\n",
    "\n",
    "line1, = plt.plot(max_depths, Heating_Load_Kappa, 'r', label = 'Heating Load kappa')\n",
    "line2, = plt.plot(max_depths, Cooling_Load_Kappa, 'b', label = 'Cooling Load kappa')\n",
    "plt.legend(handler_map={line1: HandlerLine2D(numpoints=2)})\n",
    "plt.ylabel('kappa')\n",
    "plt.xlabel('Max depth')\n",
    "plt.title('Decision Tree - vary max depth')\n",
    "plt.show()"
   ]
  },
  {
   "cell_type": "code",
   "execution_count": 58,
   "metadata": {},
   "outputs": [
    {
     "data": {
      "image/png": "[encoded data removed]",
      "text/plain": [
       "<Figure size 432x288 with 1 Axes>"
      ]
     },
     "metadata": {
      "needs_background": "light"
     },
     "output_type": "display_data"
    }
   ],
   "source": [
    "max_features = list(range(1,6))\n",
    "Heating_Load_Kappa = []\n",
    "Cooling_Load_Kappa = []\n",
    "\n",
    "\n",
    "for mf in max_features:\n",
    "    \n",
    "    model = DecisionTreeClassifier(max_features=mf,max_depth=7)\n",
    "    model.fit(x1_train_sc, y1_train)\n",
    "    y1_pred = model.predict(x1_test_sc)\n",
    "    Cohen_Kappa_hot = round(cohen_kappa_score(y1_test,y1_pred),2)\n",
    "    \n",
    "    model.fit(x2_train_sc, y2_train)\n",
    "    y2_pred = model.predict(x2_test_sc)\n",
    "    Cohen_Kappa_cold = round(cohen_kappa_score(y2_test,y2_pred),2)\n",
    "    \n",
    "    Heating_Load_Kappa.append(Cohen_Kappa_hot)\n",
    "    Cooling_Load_Kappa.append(Cohen_Kappa_cold)\n",
    "    \n",
    "\n",
    "\n",
    "line1, = plt.plot(max_features, Heating_Load_Kappa, 'r', label = 'Heating Load kappa')\n",
    "line2, = plt.plot(max_features, Cooling_Load_Kappa, 'b', label = 'Cooling Load kappa')\n",
    "plt.legend(handler_map={line1: HandlerLine2D(numpoints=2)})\n",
    "plt.ylabel('kappa')\n",
    "plt.xlabel('Max features')\n",
    "plt.title('KNN - vary max features')\n",
    "plt.show()\n"
   ]
  },
  {
   "cell_type": "code",
   "execution_count": 59,
   "metadata": {},
   "outputs": [
    {
     "data": {
      "image/png": "[encoded data removed]",
      "text/plain": [
       "<Figure size 432x288 with 1 Axes>"
      ]
     },
     "metadata": {
      "needs_background": "light"
     },
     "output_type": "display_data"
    }
   ],
   "source": [
    "min_Samples = list(range(2,6))\n",
    "Heating_Load_Kappa = []\n",
    "Cooling_Load_Kappa = []\n",
    "\n",
    "\n",
    "for ms in min_Samples:\n",
    "    \n",
    "    model = DecisionTreeClassifier(min_samples_split=ms,max_depth=7)\n",
    "    model.fit(x1_train_sc, y1_train)\n",
    "    y1_pred = model.predict(x1_test_sc)\n",
    "    Cohen_Kappa_hot = round(cohen_kappa_score(y1_test,y1_pred),2)\n",
    "    \n",
    "    model.fit(x2_train_sc, y2_train)\n",
    "    y2_pred = model.predict(x2_test_sc)\n",
    "    Cohen_Kappa_cold = round(cohen_kappa_score(y2_test,y2_pred),2)\n",
    "    \n",
    "    Heating_Load_Kappa.append(Cohen_Kappa_hot)\n",
    "    Cooling_Load_Kappa.append(Cohen_Kappa_cold)\n",
    "    \n",
    "\n",
    "\n",
    "line1, = plt.plot(min_Samples, Heating_Load_Kappa, 'r', label = 'Heating Load kappa')\n",
    "line2, = plt.plot(min_Samples, Cooling_Load_Kappa, 'b', label = 'Cooling Load kappa')\n",
    "plt.legend(handler_map={line1: HandlerLine2D(numpoints=2)})\n",
    "plt.ylabel('kappa')\n",
    "plt.xlabel('Max features')\n",
    "plt.title('KNN - vary max features')\n",
    "plt.show()\n"
   ]
  },
  {
   "cell_type": "code",
   "execution_count": 60,
   "metadata": {},
   "outputs": [],
   "source": [
    "Heating_Load_Kappa = []\n",
    "Cooling_Load_Kappa = []\n",
    "\n",
    "kernels = ['linear', 'rbf', 'poly']\n",
    "\n",
    "for kernel in kernels:\n",
    "    svc = SVC(kernel=kernel).fit(x1_train_sc, y1_train)\n",
    "    y1_pred = svc.predict(x1_test_sc)\n",
    "    Cohen_Kappa_hot = round(cohen_kappa_score(y1_test,y1_pred),2)\n",
    "    Heating_Load_Kappa.append(Cohen_Kappa_hot)\n",
    "    \n",
    "    svc = SVC(kernel=kernel).fit(x2_train_sc, y2_train)\n",
    "    y2_pred = model.predict(x2_test_sc)\n",
    "    Cohen_Kappa_cold = round(cohen_kappa_score(y2_test,y2_pred),2)\n",
    "    Cooling_Load_Kappa.append(Cohen_Kappa_cold)"
   ]
  },
  {
   "cell_type": "code",
   "execution_count": 61,
   "metadata": {},
   "outputs": [
    {
     "data": {
      "text/plain": [
       "[0.47, 0.54, 0.46]"
      ]
     },
     "execution_count": 61,
     "metadata": {},
     "output_type": "execute_result"
    }
   ],
   "source": [
    "Heating_Load_Kappa"
   ]
  },
  {
   "cell_type": "code",
   "execution_count": 62,
   "metadata": {},
   "outputs": [
    {
     "data": {
      "text/plain": [
       "[0.54, 0.54, 0.54]"
      ]
     },
     "execution_count": 62,
     "metadata": {},
     "output_type": "execute_result"
    }
   ],
   "source": [
    "Cooling_Load_Kappa"
   ]
  },
  {
   "cell_type": "code",
   "execution_count": 63,
   "metadata": {},
   "outputs": [],
   "source": [
    "Heating_Load_Kappa = []\n",
    "Cooling_Load_Kappa = []\n",
    "\n",
    "gammas = [0.1, 0.5, 10, 100]\n",
    "\n",
    "for gamma in gammas:\n",
    "    svc = SVC(gamma=gamma).fit(x1_train_sc, y1_train)\n",
    "    y1_pred = svc.predict(x1_test_sc)\n",
    "    Cohen_Kappa_hot = round(cohen_kappa_score(y1_test,y1_pred),2)\n",
    "    Heating_Load_Kappa.append(Cohen_Kappa_hot)\n",
    "    \n",
    "    svc = SVC(kernel=kernel).fit(x2_train_sc, y2_train)\n",
    "    y2_pred = model.predict(x2_test_sc)\n",
    "    Cohen_Kappa_cold = round(cohen_kappa_score(y2_test,y2_pred),2)\n",
    "    Cooling_Load_Kappa.append(Cohen_Kappa_cold)"
   ]
  },
  {
   "cell_type": "code",
   "execution_count": 64,
   "metadata": {},
   "outputs": [
    {
     "data": {
      "text/plain": [
       "[0.42, 0.63, 0.63, 0.63]"
      ]
     },
     "execution_count": 64,
     "metadata": {},
     "output_type": "execute_result"
    }
   ],
   "source": [
    "Heating_Load_Kappa"
   ]
  },
  {
   "cell_type": "code",
   "execution_count": 65,
   "metadata": {},
   "outputs": [
    {
     "data": {
      "text/plain": [
       "[0.54, 0.54, 0.54, 0.54]"
      ]
     },
     "execution_count": 65,
     "metadata": {},
     "output_type": "execute_result"
    }
   ],
   "source": [
    "Cooling_Load_Kappa"
   ]
  },
  {
   "cell_type": "code",
   "execution_count": 66,
   "metadata": {},
   "outputs": [],
   "source": [
    "cs = [0.1, 1, 10, 100, 1000]\n",
    "\n",
    "for c in cs:\n",
    "    svc = SVC(C=c,gamma=0.5).fit(x1_train_sc, y1_train)\n",
    "    y1_pred = svc.predict(x1_test_sc)\n",
    "    Cohen_Kappa_hot = round(cohen_kappa_score(y1_test,y1_pred),2)\n",
    "    Heating_Load_Kappa.append(Cohen_Kappa_hot)\n",
    "    \n",
    "    svc = SVC(C=c,gamma=0.5).fit(x2_train_sc, y2_train)\n",
    "    y2_pred = model.predict(x2_test_sc)\n",
    "    Cohen_Kappa_cold = round(cohen_kappa_score(y2_test,y2_pred),2)\n",
    "    Cooling_Load_Kappa.append(Cohen_Kappa_cold)"
   ]
  },
  {
   "cell_type": "code",
   "execution_count": 67,
   "metadata": {},
   "outputs": [
    {
     "data": {
      "text/plain": [
       "[0.42, 0.63, 0.63, 0.63, 0.3, 0.63, 0.63, 0.63, 0.63]"
      ]
     },
     "execution_count": 67,
     "metadata": {},
     "output_type": "execute_result"
    }
   ],
   "source": [
    "Heating_Load_Kappa"
   ]
  },
  {
   "cell_type": "code",
   "execution_count": 68,
   "metadata": {},
   "outputs": [
    {
     "data": {
      "text/plain": [
       "[0.54, 0.54, 0.54, 0.54, 0.54, 0.54, 0.54, 0.54, 0.54]"
      ]
     },
     "execution_count": 68,
     "metadata": {},
     "output_type": "execute_result"
    }
   ],
   "source": [
    "Cooling_Load_Kappa"
   ]
  },
  {
   "cell_type": "code",
   "execution_count": 69,
   "metadata": {},
   "outputs": [],
   "source": [
    "degrees = [0, 1, 2, 3, 4, 5, 6]\n",
    "\n",
    "for degree in degrees:\n",
    "    svc = SVC(C=1,gamma=0.5,kernel='poly',degree=degree).fit(x1_train_sc, y1_train)\n",
    "    y1_pred = svc.predict(x1_test_sc)\n",
    "    Cohen_Kappa_hot = round(cohen_kappa_score(y1_test,y1_pred),2)\n",
    "    Heating_Load_Kappa.append(Cohen_Kappa_hot)\n",
    "    \n",
    "    svc = SVC(C=c,gamma=0.5).fit(x2_train_sc, y2_train)\n",
    "    y2_pred = model.predict(x2_test_sc)\n",
    "    Cohen_Kappa_cold = round(cohen_kappa_score(y2_test,y2_pred),2)\n",
    "    Cooling_Load_Kappa.append(Cohen_Kappa_cold)"
   ]
  },
  {
   "cell_type": "code",
   "execution_count": 70,
   "metadata": {},
   "outputs": [
    {
     "data": {
      "image/png": "[encoded data removed]",
      "text/plain": [
       "<Figure size 432x288 with 1 Axes>"
      ]
     },
     "metadata": {
      "needs_background": "light"
     },
     "output_type": "display_data"
    }
   ],
   "source": [
    "Heating_Load_Kappa = []\n",
    "Cooling_Load_Kappa = []\n",
    "\n",
    "max_depths = [3,4,5,6,7,8,9,10]\n",
    "\n",
    "for max_depth in max_depths:\n",
    "    xgb1 = XGBClassifier(max_depth=max_depth)\n",
    "    xgb1.fit(x1_train_sc,y1_train)\n",
    "    y1_pred = xgb1.predict(x1_test_sc)\n",
    "    Cohen_Kappa_hot = round(cohen_kappa_score(y1_test,y1_pred),2)\n",
    "    Heating_Load_Kappa.append(Cohen_Kappa_hot)\n",
    "\n",
    "    xgb2 = XGBClassifier(max_depth=max_depth)\n",
    "    xgb2.fit(x2_train_sc,y2_train)\n",
    "    y2_pred = xgb2.predict(x2_test_sc)\n",
    "    Cohen_Kappa_cold = round(cohen_kappa_score(y2_test,y2_pred),2)\n",
    "    Cooling_Load_Kappa.append(Cohen_Kappa_cold)\n",
    "    \n",
    "    \n",
    "line1, = plt.plot(max_depths, Heating_Load_Kappa, 'r', label = 'Heating Load kappa')\n",
    "line2, = plt.plot(max_depths, Cooling_Load_Kappa, 'b', label = 'Cooling Load kappa')\n",
    "plt.legend(handler_map={line1: HandlerLine2D(numpoints=2)})\n",
    "plt.ylabel('kappa')\n",
    "plt.xlabel('max_depth')\n",
    "plt.title('XGB - vary max depth')\n",
    "plt.show()"
   ]
  },
  {
   "cell_type": "code",
   "execution_count": 71,
   "metadata": {},
   "outputs": [
    {
     "data": {
      "image/png": "[encoded data removed]",
      "text/plain": [
       "<Figure size 432x288 with 1 Axes>"
      ]
     },
     "metadata": {
      "needs_background": "light"
     },
     "output_type": "display_data"
    }
   ],
   "source": [
    "Heating_Load_Kappa = []\n",
    "Cooling_Load_Kappa = []\n",
    "\n",
    "n_estimators = range(50, 400, 50)\n",
    "\n",
    "for n_est in n_estimators:\n",
    "    xgb1 = XGBClassifier(n_estimators=n_est)\n",
    "    xgb1.fit(x1_train_sc,y1_train)\n",
    "    y1_pred = xgb1.predict(x1_test_sc)\n",
    "    Cohen_Kappa_hot = round(cohen_kappa_score(y1_test,y1_pred),2)\n",
    "    Heating_Load_Kappa.append(Cohen_Kappa_hot)\n",
    "\n",
    "    xgb2 = XGBClassifier(n_estimators=n_est)\n",
    "    xgb2.fit(x2_train_sc,y2_train)\n",
    "    y2_pred = xgb2.predict(x2_test_sc)\n",
    "    Cohen_Kappa_cold = round(cohen_kappa_score(y2_test,y2_pred),2)\n",
    "    Cooling_Load_Kappa.append(Cohen_Kappa_cold)\n",
    "    \n",
    "    \n",
    "line1, = plt.plot(n_estimators, Heating_Load_Kappa, 'r', label = 'Heating Load kappa')\n",
    "line2, = plt.plot(n_estimators, Cooling_Load_Kappa, 'b', label = 'Cooling Load kappa')\n",
    "plt.legend(handler_map={line1: HandlerLine2D(numpoints=2)})\n",
    "plt.ylabel('kappa')\n",
    "plt.xlabel('# of estimators')\n",
    "plt.title('XGB - vary # of estimators')\n",
    "plt.show()"
   ]
  },
  {
   "cell_type": "code",
   "execution_count": 72,
   "metadata": {},
   "outputs": [
    {
     "data": {
      "image/png": "[encoded data removed]",
      "text/plain": [
       "<Figure size 432x288 with 1 Axes>"
      ]
     },
     "metadata": {
      "needs_background": "light"
     },
     "output_type": "display_data"
    }
   ],
   "source": [
    "Heating_Load_Kappa = []\n",
    "Cooling_Load_Kappa = []\n",
    "\n",
    "learning_rates = [0.01, 0.03, 0.05, 0.07, 0.09]\n",
    "\n",
    "for lrat in learning_rates:\n",
    "    xgb1 = XGBClassifier(learning_rate=lrat)\n",
    "    xgb1.fit(x1_train_sc,y1_train)\n",
    "    y1_pred = xgb1.predict(x1_test_sc)\n",
    "    Cohen_Kappa_hot = round(cohen_kappa_score(y1_test,y1_pred),2)\n",
    "    Heating_Load_Kappa.append(Cohen_Kappa_hot)\n",
    "\n",
    "    xgb2 = XGBClassifier(learning_rate=lrat)\n",
    "    xgb2.fit(x2_train_sc,y2_train)\n",
    "    y2_pred = xgb2.predict(x2_test_sc)\n",
    "    Cohen_Kappa_cold = round(cohen_kappa_score(y2_test,y2_pred),2)\n",
    "    Cooling_Load_Kappa.append(Cohen_Kappa_cold)\n",
    "    \n",
    "    \n",
    "line1, = plt.plot(learning_rates, Heating_Load_Kappa, 'r', label = 'Heating Load kappa')\n",
    "line2, = plt.plot(learning_rates, Cooling_Load_Kappa, 'b', label = 'Cooling Load kappa')\n",
    "plt.legend(handler_map={line1: HandlerLine2D(numpoints=2)})\n",
    "plt.ylabel('kappa')\n",
    "plt.xlabel('learning rate')\n",
    "plt.title('XGB - vary learning rate')\n",
    "plt.show()"
   ]
  },
  {
   "cell_type": "markdown",
   "metadata": {},
   "source": [
    "### Before starting regression, what if we try multioutput classifier?"
   ]
  },
  {
   "cell_type": "code",
   "execution_count": 73,
   "metadata": {},
   "outputs": [],
   "source": [
    "# KNeighborsClassifier, XGBClassifier, SVC, RandomForest and Decision Tree Classifiers -- all applied MultiOutput"
   ]
  },
  {
   "cell_type": "code",
   "execution_count": 74,
   "metadata": {},
   "outputs": [],
   "source": [
    "KNC_multi = MultiOutputClassifier(estimator=KNeighborsClassifier())\n",
    "SVC_multi = MultiOutputClassifier(estimator=SVC(gamma=1))\n",
    "RF_multi = MultiOutputClassifier(estimator=RandomForestClassifier())\n",
    "DT_multi = MultiOutputClassifier(estimator=DecisionTreeClassifier())\n",
    "XGB_multi = MultiOutputClassifier(estimator=XGBClassifier())"
   ]
  },
  {
   "cell_type": "code",
   "execution_count": 75,
   "metadata": {},
   "outputs": [],
   "source": [
    "data.head()\n",
    "x = data.drop(columns=['Heating Load','Cooling Load','Orientation','Glazing Area Distributon'])\n",
    "x_std = std.fit(x).transform(x)\n",
    "y = data[['Heating Load','Cooling Load']]\n",
    "x_sc_train,x_sc_test,y_train,y_test = train_test_split(x_std,y,test_size=0.33,random_state=42)\n",
    "hot_series = y_test.iloc[:,0]\n",
    "cold_series = y_test.iloc[:,1]"
   ]
  },
  {
   "cell_type": "code",
   "execution_count": 76,
   "metadata": {},
   "outputs": [],
   "source": [
    "Heating_Load_Kappa_Multi = []\n",
    "Cooling_Load_Kappa_Multi = []\n",
    "\n",
    "ytest_df = pd.DataFrame(y_test,columns=['Heating Load_actual','Cooling Load_actual'])\n",
    "\n",
    "KNC_multi.fit(x_sc_train,y_train)\n",
    "KNC_multi_y_pred = KNC_multi.predict(x_sc_test)\n",
    "Cohen_Kappa_hot_KNC_multi = round(cohen_kappa_score(KNC_multi_y_pred[:,0],hot_series),2)\n",
    "Cohen_Kappa_cold_KNC_multi = round(cohen_kappa_score(KNC_multi_y_pred[:,1],cold_series),2)\n",
    "\n",
    "Heating_Load_Kappa_Multi.append(Cohen_Kappa_hot_KNC_multi)\n",
    "Cooling_Load_Kappa_Multi.append(Cohen_Kappa_cold_KNC_multi)\n",
    "\n",
    "\n",
    "SVC_multi.fit(x_sc_train,y_train)\n",
    "SVC_multi_y_pred = SVC_multi.predict(x_sc_test)\n",
    "Cohen_Kappa_hot_SVC_multi = round(cohen_kappa_score(SVC_multi_y_pred[:,0],hot_series),2)\n",
    "Cohen_Kappa_cold_SVC_multi = round(cohen_kappa_score(SVC_multi_y_pred[:,1],cold_series),2)\n",
    "\n",
    "Heating_Load_Kappa_Multi.append(Cohen_Kappa_hot_SVC_multi)\n",
    "Cooling_Load_Kappa_Multi.append(Cohen_Kappa_cold_SVC_multi)\n",
    "\n",
    "DT_multi.fit(x_sc_train,y_train)\n",
    "DT_multi_y_pred = DT_multi.predict(x_sc_test)\n",
    "Cohen_Kappa_hot_DT_multi = round(cohen_kappa_score(DT_multi_y_pred[:,0],hot_series),2)\n",
    "Cohen_Kappa_cold_DT_multi = round(cohen_kappa_score(DT_multi_y_pred[:,1],cold_series),2)\n",
    "\n",
    "Heating_Load_Kappa_Multi.append(Cohen_Kappa_hot_DT_multi)\n",
    "Cooling_Load_Kappa_Multi.append(Cohen_Kappa_cold_DT_multi)\n",
    "\n",
    "XGB_multi.fit(x_sc_train,y_train)\n",
    "XGB_multi_y_pred = XGB_multi.predict(x_sc_test)\n",
    "Cohen_Kappa_hot_XGB_multi = round(cohen_kappa_score(DT_multi_y_pred[:,0],hot_series),2)\n",
    "Cohen_Kappa_cold_XGB_multi = round(cohen_kappa_score(DT_multi_y_pred[:,1],cold_series),2)\n",
    "\n",
    "Heating_Load_Kappa_Multi.append(Cohen_Kappa_hot_XGB_multi)\n",
    "Cooling_Load_Kappa_Multi.append(Cohen_Kappa_cold_XGB_multi)"
   ]
  },
  {
   "cell_type": "code",
   "execution_count": 77,
   "metadata": {},
   "outputs": [],
   "source": [
    "Heating_Load_MultiPrediction_kappa = DataFrame([Heating_Load_Kappa_Multi],columns=['KNeighborsClassifier','SVC',\n",
    "                                                                      'Decision Tree Classifier','XGB'])\n",
    "\n",
    "Cooling_Load_MultiPrediction_kappa = DataFrame([Cooling_Load_Kappa_Multi],columns=['KNeighborsClassifier','SVC',\n",
    "                                                                      'Decision Tree Classifier','XGB'])"
   ]
  },
  {
   "cell_type": "code",
   "execution_count": 78,
   "metadata": {},
   "outputs": [
    {
     "data": {
      "text/html": [
       "<div>\n",
       "<style scoped>\n",
       "    .dataframe tbody tr th:only-of-type {\n",
       "        vertical-align: middle;\n",
       "    }\n",
       "\n",
       "    .dataframe tbody tr th {\n",
       "        vertical-align: top;\n",
       "    }\n",
       "\n",
       "    .dataframe thead th {\n",
       "        text-align: right;\n",
       "    }\n",
       "</style>\n",
       "<table border=\"1\" class=\"dataframe\">\n",
       "  <thead>\n",
       "    <tr style=\"text-align: right;\">\n",
       "      <th></th>\n",
       "      <th>KNeighborsClassifier</th>\n",
       "      <th>SVC</th>\n",
       "      <th>Decision Tree Classifier</th>\n",
       "      <th>XGB</th>\n",
       "    </tr>\n",
       "  </thead>\n",
       "  <tbody>\n",
       "    <tr>\n",
       "      <th>0</th>\n",
       "      <td>0.56</td>\n",
       "      <td>0.62</td>\n",
       "      <td>0.6</td>\n",
       "      <td>0.6</td>\n",
       "    </tr>\n",
       "  </tbody>\n",
       "</table>\n",
       "</div>"
      ],
      "text/plain": [
       "   KNeighborsClassifier   SVC  Decision Tree Classifier  XGB\n",
       "0                  0.56  0.62                       0.6  0.6"
      ]
     },
     "execution_count": 78,
     "metadata": {},
     "output_type": "execute_result"
    }
   ],
   "source": [
    "Heating_Load_MultiPrediction_kappa #Had to drop a bunch of input variables to match single output predictor"
   ]
  },
  {
   "cell_type": "code",
   "execution_count": 79,
   "metadata": {},
   "outputs": [
    {
     "data": {
      "text/html": [
       "<div>\n",
       "<style scoped>\n",
       "    .dataframe tbody tr th:only-of-type {\n",
       "        vertical-align: middle;\n",
       "    }\n",
       "\n",
       "    .dataframe tbody tr th {\n",
       "        vertical-align: top;\n",
       "    }\n",
       "\n",
       "    .dataframe thead th {\n",
       "        text-align: right;\n",
       "    }\n",
       "</style>\n",
       "<table border=\"1\" class=\"dataframe\">\n",
       "  <thead>\n",
       "    <tr style=\"text-align: right;\">\n",
       "      <th></th>\n",
       "      <th>KNeighborsClassifier</th>\n",
       "      <th>SVC</th>\n",
       "      <th>Decision Tree Classifier</th>\n",
       "      <th>XGB</th>\n",
       "    </tr>\n",
       "  </thead>\n",
       "  <tbody>\n",
       "    <tr>\n",
       "      <th>0</th>\n",
       "      <td>0.5</td>\n",
       "      <td>0.5</td>\n",
       "      <td>0.53</td>\n",
       "      <td>0.53</td>\n",
       "    </tr>\n",
       "  </tbody>\n",
       "</table>\n",
       "</div>"
      ],
      "text/plain": [
       "   KNeighborsClassifier  SVC  Decision Tree Classifier   XGB\n",
       "0                   0.5  0.5                      0.53  0.53"
      ]
     },
     "execution_count": 79,
     "metadata": {},
     "output_type": "execute_result"
    }
   ],
   "source": [
    "Cooling_Load_MultiPrediction_kappa"
   ]
  },
  {
   "cell_type": "code",
   "execution_count": 80,
   "metadata": {},
   "outputs": [
    {
     "data": {
      "text/html": [
       "<div>\n",
       "<style scoped>\n",
       "    .dataframe tbody tr th:only-of-type {\n",
       "        vertical-align: middle;\n",
       "    }\n",
       "\n",
       "    .dataframe tbody tr th {\n",
       "        vertical-align: top;\n",
       "    }\n",
       "\n",
       "    .dataframe thead th {\n",
       "        text-align: right;\n",
       "    }\n",
       "</style>\n",
       "<table border=\"1\" class=\"dataframe\">\n",
       "  <thead>\n",
       "    <tr style=\"text-align: right;\">\n",
       "      <th></th>\n",
       "      <th>KNeighborsClassifier</th>\n",
       "      <th>SVC</th>\n",
       "      <th>Decision Tree Classifier</th>\n",
       "      <th>Random Forest Classifier</th>\n",
       "      <th>AdaBoost Classifier</th>\n",
       "      <th>GaussianNB</th>\n",
       "      <th>XGB</th>\n",
       "      <th>Dummy</th>\n",
       "    </tr>\n",
       "  </thead>\n",
       "  <tbody>\n",
       "    <tr>\n",
       "      <th>0</th>\n",
       "      <td>0.63</td>\n",
       "      <td>0.63</td>\n",
       "      <td>0.63</td>\n",
       "      <td>0.63</td>\n",
       "      <td>0.05</td>\n",
       "      <td>0.31</td>\n",
       "      <td>0.63</td>\n",
       "      <td>0.01</td>\n",
       "    </tr>\n",
       "  </tbody>\n",
       "</table>\n",
       "</div>"
      ],
      "text/plain": [
       "   KNeighborsClassifier   SVC  Decision Tree Classifier  \\\n",
       "0                  0.63  0.63                      0.63   \n",
       "\n",
       "   Random Forest Classifier  AdaBoost Classifier  GaussianNB   XGB  Dummy  \n",
       "0                      0.63                 0.05        0.31  0.63   0.01  "
      ]
     },
     "execution_count": 80,
     "metadata": {},
     "output_type": "execute_result"
    }
   ],
   "source": [
    "Heating_Load_Prediction_kappa"
   ]
  },
  {
   "cell_type": "code",
   "execution_count": 81,
   "metadata": {},
   "outputs": [
    {
     "data": {
      "text/html": [
       "<div>\n",
       "<style scoped>\n",
       "    .dataframe tbody tr th:only-of-type {\n",
       "        vertical-align: middle;\n",
       "    }\n",
       "\n",
       "    .dataframe tbody tr th {\n",
       "        vertical-align: top;\n",
       "    }\n",
       "\n",
       "    .dataframe thead th {\n",
       "        text-align: right;\n",
       "    }\n",
       "</style>\n",
       "<table border=\"1\" class=\"dataframe\">\n",
       "  <thead>\n",
       "    <tr style=\"text-align: right;\">\n",
       "      <th></th>\n",
       "      <th>KNeighborsClassifier</th>\n",
       "      <th>SVC</th>\n",
       "      <th>Decision Tree Classifier</th>\n",
       "      <th>Random Forest Classifier</th>\n",
       "      <th>AdaBoost Classifier</th>\n",
       "      <th>GaussianNB</th>\n",
       "      <th>XGB</th>\n",
       "      <th>Dummy</th>\n",
       "    </tr>\n",
       "  </thead>\n",
       "  <tbody>\n",
       "    <tr>\n",
       "      <th>0</th>\n",
       "      <td>0.5</td>\n",
       "      <td>0.52</td>\n",
       "      <td>0.54</td>\n",
       "      <td>0.51</td>\n",
       "      <td>0.12</td>\n",
       "      <td>0.43</td>\n",
       "      <td>0.51</td>\n",
       "      <td>0.0</td>\n",
       "    </tr>\n",
       "  </tbody>\n",
       "</table>\n",
       "</div>"
      ],
      "text/plain": [
       "   KNeighborsClassifier   SVC  Decision Tree Classifier  \\\n",
       "0                   0.5  0.52                      0.54   \n",
       "\n",
       "   Random Forest Classifier  AdaBoost Classifier  GaussianNB   XGB  Dummy  \n",
       "0                      0.51                 0.12        0.43  0.51    0.0  "
      ]
     },
     "execution_count": 81,
     "metadata": {},
     "output_type": "execute_result"
    }
   ],
   "source": [
    "Cooling_Load_Prediction_kappa"
   ]
  },
  {
   "cell_type": "markdown",
   "metadata": {},
   "source": [
    "### Repeating iterations above, now using regression models"
   ]
  },
  {
   "cell_type": "code",
   "execution_count": 82,
   "metadata": {},
   "outputs": [],
   "source": [
    "names = [\"RFR\", \"SVR\", \"Grad Boost Regressor\", \"KN Regressor\",\n",
    "         \"AdaBoost Regressor\", 'DecisionTreeRegressor',\"Dummy Regressor\"]\n",
    "\n",
    "regressors = [\n",
    "    RandomForestRegressor(),\n",
    "    SVR(),\n",
    "    GradientBoostingRegressor(),\n",
    "    KNeighborsRegressor(),\n",
    "    AdaBoostRegressor(),\n",
    "    DecisionTreeRegressor(),    \n",
    "    DummyRegressor()]"
   ]
  },
  {
   "cell_type": "code",
   "execution_count": 83,
   "metadata": {},
   "outputs": [],
   "source": [
    "x = data.drop(columns=['Heating Load','Cooling Load'])\n",
    "y1 = data['Heating Load']\n",
    "y2 = data['Cooling Load']"
   ]
  },
  {
   "cell_type": "code",
   "execution_count": 84,
   "metadata": {},
   "outputs": [],
   "source": [
    "Heating_Load_Explained_Var= []\n",
    "Cooling_Load_Explained_Var = []\n",
    "\n",
    "for name, rgr in zip(names, regressors):\n",
    "    x1_train, x1_test, y1_train, y1_test = train_test_split(x, y1, test_size=0.1, random_state=42)\n",
    "    x2_train, x2_test, y2_train, y2_test = train_test_split(x, y2, test_size=0.2, random_state=24)\n",
    "    \n",
    "    rgr.fit(x1_train, y1_train)\n",
    "    y1_pred = rgr.predict(x1_test)\n",
    "    expl_var_hot = round(explained_variance_score(y1_test,y1_pred),3)\n",
    "    Heating_Load_Explained_Var.append(expl_var_hot)\n",
    "    \n",
    "    rgr.fit(x2_train, y2_train)\n",
    "    y2_pred = rgr.predict(x2_test)\n",
    "    expl_var_cold = round(explained_variance_score(y2_test,y2_pred),3)   \n",
    "    Cooling_Load_Explained_Var.append(expl_var_cold)\n",
    "\n"
   ]
  },
  {
   "cell_type": "code",
   "execution_count": 85,
   "metadata": {},
   "outputs": [],
   "source": [
    "Heating_Load_Explained_Var = DataFrame([Heating_Load_Explained_Var],columns=['RandomForestRegressor','SVR',\n",
    "                                                                      'Gradient Boosting Regressor','KNeighborsRegressor',\n",
    "                                                                            'AdaBoost Regressor','DecisionTreeRegressor',\n",
    "                                                                             'DummyRegressor'])\n",
    "\n",
    "Cooling_Load_Explained_Var = DataFrame([Cooling_Load_Explained_Var],columns=['RandomForestRegressor','SVR',\n",
    "                                                                      'Gradient Boosting Regressor','KNeighborsRegressor',\n",
    "                                                                            'AdaBoost Regressor','DecisionTreeRegressor',\n",
    "                                                                             'DummyRegressor'])\n"
   ]
  },
  {
   "cell_type": "code",
   "execution_count": 86,
   "metadata": {},
   "outputs": [
    {
     "data": {
      "text/html": [
       "<div>\n",
       "<style scoped>\n",
       "    .dataframe tbody tr th:only-of-type {\n",
       "        vertical-align: middle;\n",
       "    }\n",
       "\n",
       "    .dataframe tbody tr th {\n",
       "        vertical-align: top;\n",
       "    }\n",
       "\n",
       "    .dataframe thead th {\n",
       "        text-align: right;\n",
       "    }\n",
       "</style>\n",
       "<table border=\"1\" class=\"dataframe\">\n",
       "  <thead>\n",
       "    <tr style=\"text-align: right;\">\n",
       "      <th></th>\n",
       "      <th>RandomForestRegressor</th>\n",
       "      <th>SVR</th>\n",
       "      <th>Gradient Boosting Regressor</th>\n",
       "      <th>KNeighborsRegressor</th>\n",
       "      <th>AdaBoost Regressor</th>\n",
       "      <th>DecisionTreeRegressor</th>\n",
       "      <th>DummyRegressor</th>\n",
       "    </tr>\n",
       "  </thead>\n",
       "  <tbody>\n",
       "    <tr>\n",
       "      <th>0</th>\n",
       "      <td>0.997</td>\n",
       "      <td>0.74</td>\n",
       "      <td>0.997</td>\n",
       "      <td>0.965</td>\n",
       "      <td>0.959</td>\n",
       "      <td>0.996</td>\n",
       "      <td>0.0</td>\n",
       "    </tr>\n",
       "  </tbody>\n",
       "</table>\n",
       "</div>"
      ],
      "text/plain": [
       "   RandomForestRegressor   SVR  Gradient Boosting Regressor  \\\n",
       "0                  0.997  0.74                        0.997   \n",
       "\n",
       "   KNeighborsRegressor  AdaBoost Regressor  DecisionTreeRegressor  \\\n",
       "0                0.965               0.959                  0.996   \n",
       "\n",
       "   DummyRegressor  \n",
       "0             0.0  "
      ]
     },
     "execution_count": 86,
     "metadata": {},
     "output_type": "execute_result"
    }
   ],
   "source": [
    "Heating_Load_Explained_Var"
   ]
  },
  {
   "cell_type": "code",
   "execution_count": 87,
   "metadata": {},
   "outputs": [
    {
     "data": {
      "text/html": [
       "<div>\n",
       "<style scoped>\n",
       "    .dataframe tbody tr th:only-of-type {\n",
       "        vertical-align: middle;\n",
       "    }\n",
       "\n",
       "    .dataframe tbody tr th {\n",
       "        vertical-align: top;\n",
       "    }\n",
       "\n",
       "    .dataframe thead th {\n",
       "        text-align: right;\n",
       "    }\n",
       "</style>\n",
       "<table border=\"1\" class=\"dataframe\">\n",
       "  <thead>\n",
       "    <tr style=\"text-align: right;\">\n",
       "      <th></th>\n",
       "      <th>RandomForestRegressor</th>\n",
       "      <th>SVR</th>\n",
       "      <th>Gradient Boosting Regressor</th>\n",
       "      <th>KNeighborsRegressor</th>\n",
       "      <th>AdaBoost Regressor</th>\n",
       "      <th>DecisionTreeRegressor</th>\n",
       "      <th>DummyRegressor</th>\n",
       "    </tr>\n",
       "  </thead>\n",
       "  <tbody>\n",
       "    <tr>\n",
       "      <th>0</th>\n",
       "      <td>0.959</td>\n",
       "      <td>0.744</td>\n",
       "      <td>0.966</td>\n",
       "      <td>0.963</td>\n",
       "      <td>0.942</td>\n",
       "      <td>0.914</td>\n",
       "      <td>0.0</td>\n",
       "    </tr>\n",
       "  </tbody>\n",
       "</table>\n",
       "</div>"
      ],
      "text/plain": [
       "   RandomForestRegressor    SVR  Gradient Boosting Regressor  \\\n",
       "0                  0.959  0.744                        0.966   \n",
       "\n",
       "   KNeighborsRegressor  AdaBoost Regressor  DecisionTreeRegressor  \\\n",
       "0                0.963               0.942                  0.914   \n",
       "\n",
       "   DummyRegressor  \n",
       "0             0.0  "
      ]
     },
     "execution_count": 87,
     "metadata": {},
     "output_type": "execute_result"
    }
   ],
   "source": [
    "Cooling_Load_Explained_Var"
   ]
  },
  {
   "cell_type": "markdown",
   "metadata": {},
   "source": [
    "## Applying k-fold cross validation in lieu of test-train-split"
   ]
  },
  {
   "cell_type": "code",
   "execution_count": 88,
   "metadata": {},
   "outputs": [],
   "source": [
    "data = pd.read_csv('ENB2012_data.csv')\n",
    "\n",
    "data['Heating Load'] = round(data['Heating Load'])\n",
    "data['Cooling Load'] = round(data['Cooling Load'])\n",
    "\n",
    "data.dropna(inplace=True)\n",
    "\n",
    "x = data.drop(columns=['Heating Load','Cooling Load'])\n",
    "y1 = data['Heating Load']\n",
    "y2 = data['Cooling Load']\n",
    "\n"
   ]
  },
  {
   "cell_type": "code",
   "execution_count": 89,
   "metadata": {},
   "outputs": [],
   "source": [
    "cv = KFold(10,True,1)"
   ]
  },
  {
   "cell_type": "code",
   "execution_count": 90,
   "metadata": {},
   "outputs": [],
   "source": [
    "x.drop(columns=['Glazing Area Distributon','Orientation'],inplace=True)\n",
    "x['Total SA'] = x['Roof Area'] + x['Wall Area']\n",
    "x.drop(columns=['Roof Area','Wall Area'],inplace=True)"
   ]
  },
  {
   "cell_type": "code",
   "execution_count": 91,
   "metadata": {},
   "outputs": [
    {
     "name": "stderr",
     "output_type": "stream",
     "text": [
      "C:\\Users\\ver2bj\\AppData\\Local\\Continuum\\anaconda3\\lib\\site-packages\\sklearn\\dummy.py:132: FutureWarning: The default value of strategy will change from stratified to prior in 0.24.\n",
      "  \"stratified to prior in 0.24.\", FutureWarning)\n"
     ]
    }
   ],
   "source": [
    "std = StandardScaler()\n",
    "x_sc = std.fit(x).transform(x)\n",
    "\n",
    "Heating_Load_crossval_accuracy = []\n",
    "Cooling_Load_crossval_accuracy = []\n",
    "\n",
    "for clf in classifiers:\n",
    "    clfscore_heat_load = cross_val_score(clf,x_sc,y1,cv=cv,scoring='accuracy')\n",
    "    clfscore_heat_load = round(np.mean(clfscore_heat_load),2)\n",
    "    Heating_Load_crossval_accuracy.append(clfscore_heat_load)\n",
    "    \n",
    "    clfscore_cool_load = cross_val_score(clf,x_sc,y2,cv=cv,scoring='accuracy')\n",
    "    clfscore_cool_load = round(np.mean(clfscore_cool_load),2)\n",
    "    Cooling_Load_crossval_accuracy.append(clfscore_cool_load)\n",
    "    \n",
    "from pandas import DataFrame\n",
    "\n",
    "Heating_Load_Accuracy_classifier = DataFrame([Heating_Load_crossval_accuracy],columns=['KNeighborsClassifier','SVC',\n",
    "                                                                      'Decision Tree Classifier','Random Forest Classifier',\n",
    "                                                                      'AdaBoost Classifier','GaussianNB','XGB','Dummy'])\n",
    "\n",
    "Cooling_Load_Accuracy_classifier = DataFrame([Cooling_Load_crossval_accuracy],columns=['KNeighborsClassifier','SVC',\n",
    "                                                                      'Decision Tree Classifier','Random Forest Classifier',\n",
    "                                                                      'AdaBoost Classifier','GaussianNB','XGB','Dummy'])\n",
    "    "
   ]
  },
  {
   "cell_type": "code",
   "execution_count": 92,
   "metadata": {},
   "outputs": [
    {
     "data": {
      "text/html": [
       "<div>\n",
       "<style scoped>\n",
       "    .dataframe tbody tr th:only-of-type {\n",
       "        vertical-align: middle;\n",
       "    }\n",
       "\n",
       "    .dataframe tbody tr th {\n",
       "        vertical-align: top;\n",
       "    }\n",
       "\n",
       "    .dataframe thead th {\n",
       "        text-align: right;\n",
       "    }\n",
       "</style>\n",
       "<table border=\"1\" class=\"dataframe\">\n",
       "  <thead>\n",
       "    <tr style=\"text-align: right;\">\n",
       "      <th></th>\n",
       "      <th>KNeighborsClassifier</th>\n",
       "      <th>SVC</th>\n",
       "      <th>Decision Tree Classifier</th>\n",
       "      <th>Random Forest Classifier</th>\n",
       "      <th>AdaBoost Classifier</th>\n",
       "      <th>GaussianNB</th>\n",
       "      <th>XGB</th>\n",
       "      <th>Dummy</th>\n",
       "    </tr>\n",
       "  </thead>\n",
       "  <tbody>\n",
       "    <tr>\n",
       "      <th>0</th>\n",
       "      <td>0.62</td>\n",
       "      <td>0.65</td>\n",
       "      <td>0.64</td>\n",
       "      <td>0.65</td>\n",
       "      <td>0.14</td>\n",
       "      <td>0.4</td>\n",
       "      <td>0.65</td>\n",
       "      <td>0.04</td>\n",
       "    </tr>\n",
       "  </tbody>\n",
       "</table>\n",
       "</div>"
      ],
      "text/plain": [
       "   KNeighborsClassifier   SVC  Decision Tree Classifier  \\\n",
       "0                  0.62  0.65                      0.64   \n",
       "\n",
       "   Random Forest Classifier  AdaBoost Classifier  GaussianNB   XGB  Dummy  \n",
       "0                      0.65                 0.14         0.4  0.65   0.04  "
      ]
     },
     "execution_count": 92,
     "metadata": {},
     "output_type": "execute_result"
    }
   ],
   "source": [
    "Heating_Load_Accuracy_classifier"
   ]
  },
  {
   "cell_type": "code",
   "execution_count": 93,
   "metadata": {},
   "outputs": [
    {
     "data": {
      "text/html": [
       "<div>\n",
       "<style scoped>\n",
       "    .dataframe tbody tr th:only-of-type {\n",
       "        vertical-align: middle;\n",
       "    }\n",
       "\n",
       "    .dataframe tbody tr th {\n",
       "        vertical-align: top;\n",
       "    }\n",
       "\n",
       "    .dataframe thead th {\n",
       "        text-align: right;\n",
       "    }\n",
       "</style>\n",
       "<table border=\"1\" class=\"dataframe\">\n",
       "  <thead>\n",
       "    <tr style=\"text-align: right;\">\n",
       "      <th></th>\n",
       "      <th>KNeighborsClassifier</th>\n",
       "      <th>SVC</th>\n",
       "      <th>Decision Tree Classifier</th>\n",
       "      <th>Random Forest Classifier</th>\n",
       "      <th>AdaBoost Classifier</th>\n",
       "      <th>GaussianNB</th>\n",
       "      <th>XGB</th>\n",
       "      <th>Dummy</th>\n",
       "    </tr>\n",
       "  </thead>\n",
       "  <tbody>\n",
       "    <tr>\n",
       "      <th>0</th>\n",
       "      <td>0.55</td>\n",
       "      <td>0.56</td>\n",
       "      <td>0.56</td>\n",
       "      <td>0.55</td>\n",
       "      <td>0.15</td>\n",
       "      <td>0.39</td>\n",
       "      <td>0.55</td>\n",
       "      <td>0.05</td>\n",
       "    </tr>\n",
       "  </tbody>\n",
       "</table>\n",
       "</div>"
      ],
      "text/plain": [
       "   KNeighborsClassifier   SVC  Decision Tree Classifier  \\\n",
       "0                  0.55  0.56                      0.56   \n",
       "\n",
       "   Random Forest Classifier  AdaBoost Classifier  GaussianNB   XGB  Dummy  \n",
       "0                      0.55                 0.15        0.39  0.55   0.05  "
      ]
     },
     "execution_count": 93,
     "metadata": {},
     "output_type": "execute_result"
    }
   ],
   "source": [
    "Cooling_Load_Accuracy_classifier "
   ]
  },
  {
   "cell_type": "code",
   "execution_count": 94,
   "metadata": {},
   "outputs": [],
   "source": [
    "data = pd.read_csv('ENB2012_data.csv')\n",
    "\n",
    "data.dropna(inplace=True)\n",
    "\n",
    "x = data.drop(columns=['Heating Load','Cooling Load'])\n",
    "y1 = data['Heating Load']\n",
    "y2 = data['Cooling Load']\n",
    "\n",
    "x.drop(columns=['Glazing Area Distributon','Orientation','Relative Compactness'],inplace=True)\n"
   ]
  },
  {
   "cell_type": "code",
   "execution_count": 95,
   "metadata": {},
   "outputs": [
    {
     "data": {
      "text/plain": [
       "Surface Area     -0.125131\n",
       "Wall Area         0.533417\n",
       "Roof Area        -0.162764\n",
       "Overall Height    0.000000\n",
       "Glazing Area     -0.060254\n",
       "dtype: float64"
      ]
     },
     "execution_count": 95,
     "metadata": {},
     "output_type": "execute_result"
    }
   ],
   "source": [
    "x.skew()"
   ]
  },
  {
   "cell_type": "code",
   "execution_count": 96,
   "metadata": {},
   "outputs": [],
   "source": [
    "x_sc = std.fit(x).transform(x)\n",
    "\n",
    "Heating_Load_crossval_explvar = []\n",
    "Cooling_Load_crossval_explvar = []\n",
    "\n",
    "for rgr in regressors:\n",
    "    rgrscore_heat_load = cross_val_score(rgr,x_sc,y1,cv=cv,scoring='explained_variance')\n",
    "    rgrscore_heat_load = round(np.mean(rgrscore_heat_load),3)\n",
    "    Heating_Load_crossval_explvar.append(rgrscore_heat_load)\n",
    "    \n",
    "    rgrscore_cool_load = cross_val_score(rgr,x_sc,y2,cv=cv,scoring='explained_variance')\n",
    "    rgrscore_cool_load = round(np.mean(rgrscore_cool_load),3)\n",
    "    Cooling_Load_crossval_explvar.append(rgrscore_cool_load)\n",
    "    \n",
    "    \n",
    "\n",
    "Heating_Load_ExplVar_regressor = DataFrame([Heating_Load_crossval_explvar],columns=['RandomForestRegressor','SVR',\n",
    "                                                                      'Gradient Boosting Regressor','KNeighborsRegressor',\n",
    "                                                                            'AdaBoost Regressor','DecisionTreeRegressor',\n",
    "                                                                             'DummyRegressor'])\n",
    "\n",
    "\n",
    "Cooling_Load_ExplVar_regressor = DataFrame([Cooling_Load_crossval_explvar],columns=['RandomForestRegressor','SVR',\n",
    "                                                                      'Gradient Boosting Regressor','KNeighborsRegressor',\n",
    "                                                                            'AdaBoost Regressor','DecisionTreeRegressor',\n",
    "                                                                             'DummyRegressor'])\n"
   ]
  },
  {
   "cell_type": "code",
   "execution_count": 97,
   "metadata": {},
   "outputs": [
    {
     "data": {
      "text/html": [
       "<div>\n",
       "<style scoped>\n",
       "    .dataframe tbody tr th:only-of-type {\n",
       "        vertical-align: middle;\n",
       "    }\n",
       "\n",
       "    .dataframe tbody tr th {\n",
       "        vertical-align: top;\n",
       "    }\n",
       "\n",
       "    .dataframe thead th {\n",
       "        text-align: right;\n",
       "    }\n",
       "</style>\n",
       "<table border=\"1\" class=\"dataframe\">\n",
       "  <thead>\n",
       "    <tr style=\"text-align: right;\">\n",
       "      <th></th>\n",
       "      <th>RandomForestRegressor</th>\n",
       "      <th>SVR</th>\n",
       "      <th>Gradient Boosting Regressor</th>\n",
       "      <th>KNeighborsRegressor</th>\n",
       "      <th>AdaBoost Regressor</th>\n",
       "      <th>DecisionTreeRegressor</th>\n",
       "      <th>DummyRegressor</th>\n",
       "    </tr>\n",
       "  </thead>\n",
       "  <tbody>\n",
       "    <tr>\n",
       "      <th>0</th>\n",
       "      <td>0.998</td>\n",
       "      <td>0.937</td>\n",
       "      <td>0.998</td>\n",
       "      <td>0.993</td>\n",
       "      <td>0.966</td>\n",
       "      <td>0.998</td>\n",
       "      <td>0.0</td>\n",
       "    </tr>\n",
       "  </tbody>\n",
       "</table>\n",
       "</div>"
      ],
      "text/plain": [
       "   RandomForestRegressor    SVR  Gradient Boosting Regressor  \\\n",
       "0                  0.998  0.937                        0.998   \n",
       "\n",
       "   KNeighborsRegressor  AdaBoost Regressor  DecisionTreeRegressor  \\\n",
       "0                0.993               0.966                  0.998   \n",
       "\n",
       "   DummyRegressor  \n",
       "0             0.0  "
      ]
     },
     "execution_count": 97,
     "metadata": {},
     "output_type": "execute_result"
    }
   ],
   "source": [
    "Heating_Load_ExplVar_regressor"
   ]
  },
  {
   "cell_type": "code",
   "execution_count": 98,
   "metadata": {},
   "outputs": [
    {
     "data": {
      "text/html": [
       "<div>\n",
       "<style scoped>\n",
       "    .dataframe tbody tr th:only-of-type {\n",
       "        vertical-align: middle;\n",
       "    }\n",
       "\n",
       "    .dataframe tbody tr th {\n",
       "        vertical-align: top;\n",
       "    }\n",
       "\n",
       "    .dataframe thead th {\n",
       "        text-align: right;\n",
       "    }\n",
       "</style>\n",
       "<table border=\"1\" class=\"dataframe\">\n",
       "  <thead>\n",
       "    <tr style=\"text-align: right;\">\n",
       "      <th></th>\n",
       "      <th>RandomForestRegressor</th>\n",
       "      <th>SVR</th>\n",
       "      <th>Gradient Boosting Regressor</th>\n",
       "      <th>KNeighborsRegressor</th>\n",
       "      <th>AdaBoost Regressor</th>\n",
       "      <th>DecisionTreeRegressor</th>\n",
       "      <th>DummyRegressor</th>\n",
       "    </tr>\n",
       "  </thead>\n",
       "  <tbody>\n",
       "    <tr>\n",
       "      <th>0</th>\n",
       "      <td>0.967</td>\n",
       "      <td>0.914</td>\n",
       "      <td>0.968</td>\n",
       "      <td>0.962</td>\n",
       "      <td>0.939</td>\n",
       "      <td>0.967</td>\n",
       "      <td>0.0</td>\n",
       "    </tr>\n",
       "  </tbody>\n",
       "</table>\n",
       "</div>"
      ],
      "text/plain": [
       "   RandomForestRegressor    SVR  Gradient Boosting Regressor  \\\n",
       "0                  0.967  0.914                        0.968   \n",
       "\n",
       "   KNeighborsRegressor  AdaBoost Regressor  DecisionTreeRegressor  \\\n",
       "0                0.962               0.939                  0.967   \n",
       "\n",
       "   DummyRegressor  \n",
       "0             0.0  "
      ]
     },
     "execution_count": 98,
     "metadata": {},
     "output_type": "execute_result"
    }
   ],
   "source": [
    "Cooling_Load_ExplVar_regressor"
   ]
  },
  {
   "cell_type": "code",
   "execution_count": 99,
   "metadata": {},
   "outputs": [],
   "source": [
    "Heating_Load_crossval_MSE = []\n",
    "Cooling_Load_crossval_MSE = []\n",
    "\n",
    "for rgr in regressors:\n",
    "    rgrscore_heat_load = cross_val_score(rgr,x_sc,y1,cv=cv,scoring='neg_root_mean_squared_error')\n",
    "    rgrscore_heat_load = round(np.mean(rgrscore_heat_load),3)\n",
    "    Heating_Load_crossval_MSE.append(rgrscore_heat_load)\n",
    "    \n",
    "    rgrscore_cool_load = cross_val_score(rgr,x_sc,y2,cv=cv,scoring='neg_root_mean_squared_error')\n",
    "    rgrscore_cool_load = round(np.mean(rgrscore_cool_load),3)\n",
    "    Cooling_Load_crossval_MSE.append(rgrscore_cool_load)\n",
    "    \n",
    "    \n",
    "\n",
    "Heating_Load_MSE_regressor = DataFrame([Heating_Load_crossval_MSE],columns=['RandomForestRegressor','SVR',\n",
    "                                                                      'Gradient Boosting Regressor','KNeighborsRegressor',\n",
    "                                                                            'AdaBoost Regressor','DecisionTreeRegressor',\n",
    "                                                                             'DummyRegressor'])\n",
    "\n",
    "\n",
    "Cooling_Load_MSE_regressor = DataFrame([Cooling_Load_crossval_MSE],columns=['RandomForestRegressor','SVR',\n",
    "                                                                      'Gradient Boosting Regressor','KNeighborsRegressor',\n",
    "                                                                            'AdaBoost Regressor','DecisionTreeRegressor',\n",
    "                                                                             'DummyRegressor'])\n"
   ]
  },
  {
   "cell_type": "code",
   "execution_count": 100,
   "metadata": {},
   "outputs": [
    {
     "data": {
      "text/html": [
       "<div>\n",
       "<style scoped>\n",
       "    .dataframe tbody tr th:only-of-type {\n",
       "        vertical-align: middle;\n",
       "    }\n",
       "\n",
       "    .dataframe tbody tr th {\n",
       "        vertical-align: top;\n",
       "    }\n",
       "\n",
       "    .dataframe thead th {\n",
       "        text-align: right;\n",
       "    }\n",
       "</style>\n",
       "<table border=\"1\" class=\"dataframe\">\n",
       "  <thead>\n",
       "    <tr style=\"text-align: right;\">\n",
       "      <th></th>\n",
       "      <th>RandomForestRegressor</th>\n",
       "      <th>SVR</th>\n",
       "      <th>Gradient Boosting Regressor</th>\n",
       "      <th>KNeighborsRegressor</th>\n",
       "      <th>AdaBoost Regressor</th>\n",
       "      <th>DecisionTreeRegressor</th>\n",
       "      <th>DummyRegressor</th>\n",
       "    </tr>\n",
       "  </thead>\n",
       "  <tbody>\n",
       "    <tr>\n",
       "      <th>0</th>\n",
       "      <td>-0.484</td>\n",
       "      <td>-2.516</td>\n",
       "      <td>-0.486</td>\n",
       "      <td>-0.811</td>\n",
       "      <td>-1.843</td>\n",
       "      <td>-0.48</td>\n",
       "      <td>-10.087</td>\n",
       "    </tr>\n",
       "  </tbody>\n",
       "</table>\n",
       "</div>"
      ],
      "text/plain": [
       "   RandomForestRegressor    SVR  Gradient Boosting Regressor  \\\n",
       "0                 -0.484 -2.516                       -0.486   \n",
       "\n",
       "   KNeighborsRegressor  AdaBoost Regressor  DecisionTreeRegressor  \\\n",
       "0               -0.811              -1.843                  -0.48   \n",
       "\n",
       "   DummyRegressor  \n",
       "0         -10.087  "
      ]
     },
     "execution_count": 100,
     "metadata": {},
     "output_type": "execute_result"
    }
   ],
   "source": [
    "Heating_Load_MSE_regressor"
   ]
  },
  {
   "cell_type": "code",
   "execution_count": 101,
   "metadata": {},
   "outputs": [
    {
     "data": {
      "text/html": [
       "<div>\n",
       "<style scoped>\n",
       "    .dataframe tbody tr th:only-of-type {\n",
       "        vertical-align: middle;\n",
       "    }\n",
       "\n",
       "    .dataframe tbody tr th {\n",
       "        vertical-align: top;\n",
       "    }\n",
       "\n",
       "    .dataframe thead th {\n",
       "        text-align: right;\n",
       "    }\n",
       "</style>\n",
       "<table border=\"1\" class=\"dataframe\">\n",
       "  <thead>\n",
       "    <tr style=\"text-align: right;\">\n",
       "      <th></th>\n",
       "      <th>RandomForestRegressor</th>\n",
       "      <th>SVR</th>\n",
       "      <th>Gradient Boosting Regressor</th>\n",
       "      <th>KNeighborsRegressor</th>\n",
       "      <th>AdaBoost Regressor</th>\n",
       "      <th>DecisionTreeRegressor</th>\n",
       "      <th>DummyRegressor</th>\n",
       "    </tr>\n",
       "  </thead>\n",
       "  <tbody>\n",
       "    <tr>\n",
       "      <th>0</th>\n",
       "      <td>-1.699</td>\n",
       "      <td>-2.801</td>\n",
       "      <td>-1.681</td>\n",
       "      <td>-1.821</td>\n",
       "      <td>-2.389</td>\n",
       "      <td>-1.707</td>\n",
       "      <td>-9.514</td>\n",
       "    </tr>\n",
       "  </tbody>\n",
       "</table>\n",
       "</div>"
      ],
      "text/plain": [
       "   RandomForestRegressor    SVR  Gradient Boosting Regressor  \\\n",
       "0                 -1.699 -2.801                       -1.681   \n",
       "\n",
       "   KNeighborsRegressor  AdaBoost Regressor  DecisionTreeRegressor  \\\n",
       "0               -1.821              -2.389                 -1.707   \n",
       "\n",
       "   DummyRegressor  \n",
       "0          -9.514  "
      ]
     },
     "execution_count": 101,
     "metadata": {},
     "output_type": "execute_result"
    }
   ],
   "source": [
    "Cooling_Load_MSE_regressor"
   ]
  },
  {
   "cell_type": "markdown",
   "metadata": {},
   "source": [
    "### Switch to deep learning model, no preprocessing"
   ]
  },
  {
   "cell_type": "code",
   "execution_count": 102,
   "metadata": {},
   "outputs": [
    {
     "name": "stdout",
     "output_type": "stream",
     "text": [
      "Requirement already satisfied: keras in c:\\users\\ver2bj\\appdata\\local\\continuum\\anaconda3\\lib\\site-packages (2.3.1)\n",
      "Requirement already satisfied: pyyaml in c:\\users\\ver2bj\\appdata\\local\\continuum\\anaconda3\\lib\\site-packages (from keras) (5.1)\n",
      "Requirement already satisfied: keras-applications>=1.0.6 in c:\\users\\ver2bj\\appdata\\local\\continuum\\anaconda3\\lib\\site-packages (from keras) (1.0.8)\n",
      "Requirement already satisfied: six>=1.9.0 in c:\\users\\ver2bj\\appdata\\local\\continuum\\anaconda3\\lib\\site-packages (from keras) (1.12.0)\n",
      "Requirement already satisfied: h5py in c:\\users\\ver2bj\\appdata\\local\\continuum\\anaconda3\\lib\\site-packages (from keras) (2.9.0)\n",
      "Requirement already satisfied: scipy>=0.14 in c:\\users\\ver2bj\\appdata\\local\\continuum\\anaconda3\\lib\\site-packages (from keras) (1.2.1)\n",
      "Requirement already satisfied: numpy>=1.9.1 in c:\\users\\ver2bj\\appdata\\local\\continuum\\anaconda3\\lib\\site-packages (from keras) (1.18.4)\n",
      "Requirement already satisfied: keras-preprocessing>=1.0.5 in c:\\users\\ver2bj\\appdata\\local\\continuum\\anaconda3\\lib\\site-packages (from keras) (1.1.0)\n",
      "Note: you may need to restart the kernel to use updated packages.\n",
      "Requirement already satisfied: tensorflow in c:\\users\\ver2bj\\appdata\\local\\continuum\\anaconda3\\lib\\site-packages (2.0.0)\n",
      "Requirement already satisfied: gast==0.2.2 in c:\\users\\ver2bj\\appdata\\local\\continuum\\anaconda3\\lib\\site-packages (from tensorflow) (0.2.2)\n",
      "Requirement already satisfied: google-pasta>=0.1.6 in c:\\users\\ver2bj\\appdata\\local\\continuum\\anaconda3\\lib\\site-packages (from tensorflow) (0.1.8)\n",
      "Requirement already satisfied: keras-applications>=1.0.8 in c:\\users\\ver2bj\\appdata\\local\\continuum\\anaconda3\\lib\\site-packages (from tensorflow) (1.0.8)\n",
      "Requirement already satisfied: numpy<2.0,>=1.16.0 in c:\\users\\ver2bj\\appdata\\local\\continuum\\anaconda3\\lib\\site-packages (from tensorflow) (1.18.4)\n",
      "Requirement already satisfied: grpcio>=1.8.6 in c:\\users\\ver2bj\\appdata\\local\\continuum\\anaconda3\\lib\\site-packages (from tensorflow) (1.26.0)\n",
      "Requirement already satisfied: tensorboard<2.1.0,>=2.0.0 in c:\\users\\ver2bj\\appdata\\local\\continuum\\anaconda3\\lib\\site-packages (from tensorflow) (2.0.2)\n",
      "Requirement already satisfied: wheel>=0.26 in c:\\users\\ver2bj\\appdata\\local\\continuum\\anaconda3\\lib\\site-packages (from tensorflow) (0.34.2)\n",
      "Requirement already satisfied: opt-einsum>=2.3.2 in c:\\users\\ver2bj\\appdata\\local\\continuum\\anaconda3\\lib\\site-packages (from tensorflow) (3.1.0)\n",
      "Requirement already satisfied: protobuf>=3.6.1 in c:\\users\\ver2bj\\appdata\\local\\continuum\\anaconda3\\lib\\site-packages (from tensorflow) (3.11.2)\n",
      "Requirement already satisfied: termcolor>=1.1.0 in c:\\users\\ver2bj\\appdata\\local\\continuum\\anaconda3\\lib\\site-packages (from tensorflow) (1.1.0)\n",
      "Requirement already satisfied: tensorflow-estimator<2.1.0,>=2.0.0 in c:\\users\\ver2bj\\appdata\\local\\continuum\\anaconda3\\lib\\site-packages (from tensorflow) (2.0.1)\n",
      "Requirement already satisfied: wrapt>=1.11.1 in c:\\users\\ver2bj\\appdata\\local\\continuum\\anaconda3\\lib\\site-packages (from tensorflow) (1.11.1)\n",
      "Requirement already satisfied: absl-py>=0.7.0 in c:\\users\\ver2bj\\appdata\\local\\continuum\\anaconda3\\lib\\site-packages (from tensorflow) (0.9.0)\n",
      "Requirement already satisfied: keras-preprocessing>=1.0.5 in c:\\users\\ver2bj\\appdata\\local\\continuum\\anaconda3\\lib\\site-packages (from tensorflow) (1.1.0)\n",
      "Requirement already satisfied: six>=1.10.0 in c:\\users\\ver2bj\\appdata\\local\\continuum\\anaconda3\\lib\\site-packages (from tensorflow) (1.12.0)\n",
      "Requirement already satisfied: astor>=0.6.0 in c:\\users\\ver2bj\\appdata\\local\\continuum\\anaconda3\\lib\\site-packages (from tensorflow) (0.8.1)\n",
      "Requirement already satisfied: h5py in c:\\users\\ver2bj\\appdata\\local\\continuum\\anaconda3\\lib\\site-packages (from keras-applications>=1.0.8->tensorflow) (2.9.0)\n",
      "Requirement already satisfied: setuptools>=41.0.0 in c:\\users\\ver2bj\\appdata\\local\\continuum\\anaconda3\\lib\\site-packages (from tensorboard<2.1.0,>=2.0.0->tensorflow) (47.1.1)\n",
      "Requirement already satisfied: google-auth<2,>=1.6.3 in c:\\users\\ver2bj\\appdata\\local\\continuum\\anaconda3\\lib\\site-packages (from tensorboard<2.1.0,>=2.0.0->tensorflow) (1.10.0)\n",
      "Requirement already satisfied: google-auth-oauthlib<0.5,>=0.4.1 in c:\\users\\ver2bj\\appdata\\local\\continuum\\anaconda3\\lib\\site-packages (from tensorboard<2.1.0,>=2.0.0->tensorflow) (0.4.1)\n",
      "Requirement already satisfied: requests<3,>=2.21.0 in c:\\users\\ver2bj\\appdata\\local\\continuum\\anaconda3\\lib\\site-packages (from tensorboard<2.1.0,>=2.0.0->tensorflow) (2.21.0)\n",
      "Requirement already satisfied: werkzeug>=0.11.15 in c:\\users\\ver2bj\\appdata\\local\\continuum\\anaconda3\\lib\\site-packages (from tensorboard<2.1.0,>=2.0.0->tensorflow) (0.14.1)\n",
      "Requirement already satisfied: markdown>=2.6.8 in c:\\users\\ver2bj\\appdata\\local\\continuum\\anaconda3\\lib\\site-packages (from tensorboard<2.1.0,>=2.0.0->tensorflow) (3.1.1)\n",
      "Requirement already satisfied: rsa<4.1,>=3.1.4 in c:\\users\\ver2bj\\appdata\\local\\continuum\\anaconda3\\lib\\site-packages (from google-auth<2,>=1.6.3->tensorboard<2.1.0,>=2.0.0->tensorflow) (4.0)\n",
      "Requirement already satisfied: cachetools<5.0,>=2.0.0 in c:\\users\\ver2bj\\appdata\\local\\continuum\\anaconda3\\lib\\site-packages (from google-auth<2,>=1.6.3->tensorboard<2.1.0,>=2.0.0->tensorflow) (4.0.0)\n",
      "Requirement already satisfied: pyasn1-modules>=0.2.1 in c:\\users\\ver2bj\\appdata\\local\\continuum\\anaconda3\\lib\\site-packages (from google-auth<2,>=1.6.3->tensorboard<2.1.0,>=2.0.0->tensorflow) (0.2.7)\n",
      "Requirement already satisfied: requests-oauthlib>=0.7.0 in c:\\users\\ver2bj\\appdata\\local\\continuum\\anaconda3\\lib\\site-packages (from google-auth-oauthlib<0.5,>=0.4.1->tensorboard<2.1.0,>=2.0.0->tensorflow) (1.3.0)\n",
      "Requirement already satisfied: urllib3<1.25,>=1.21.1 in c:\\users\\ver2bj\\appdata\\local\\continuum\\anaconda3\\lib\\site-packages (from requests<3,>=2.21.0->tensorboard<2.1.0,>=2.0.0->tensorflow) (1.24.1)\n",
      "Requirement already satisfied: certifi>=2017.4.17 in c:\\users\\ver2bj\\appdata\\local\\continuum\\anaconda3\\lib\\site-packages (from requests<3,>=2.21.0->tensorboard<2.1.0,>=2.0.0->tensorflow) (2019.11.28)\n",
      "Requirement already satisfied: chardet<3.1.0,>=3.0.2 in c:\\users\\ver2bj\\appdata\\local\\continuum\\anaconda3\\lib\\site-packages (from requests<3,>=2.21.0->tensorboard<2.1.0,>=2.0.0->tensorflow) (3.0.4)\n",
      "Requirement already satisfied: idna<2.9,>=2.5 in c:\\users\\ver2bj\\appdata\\local\\continuum\\anaconda3\\lib\\site-packages (from requests<3,>=2.21.0->tensorboard<2.1.0,>=2.0.0->tensorflow) (2.8)\n",
      "Requirement already satisfied: pyasn1>=0.1.3 in c:\\users\\ver2bj\\appdata\\local\\continuum\\anaconda3\\lib\\site-packages (from rsa<4.1,>=3.1.4->google-auth<2,>=1.6.3->tensorboard<2.1.0,>=2.0.0->tensorflow) (0.4.8)\n",
      "Requirement already satisfied: oauthlib>=3.0.0 in c:\\users\\ver2bj\\appdata\\local\\continuum\\anaconda3\\lib\\site-packages (from requests-oauthlib>=0.7.0->google-auth-oauthlib<0.5,>=0.4.1->tensorboard<2.1.0,>=2.0.0->tensorflow) (3.1.0)\n",
      "Note: you may need to restart the kernel to use updated packages.\n"
     ]
    }
   ],
   "source": [
    "%pip install keras\n",
    "%pip install tensorflow"
   ]
  },
  {
   "cell_type": "code",
   "execution_count": 103,
   "metadata": {},
   "outputs": [
    {
     "name": "stderr",
     "output_type": "stream",
     "text": [
      "Using TensorFlow backend.\n"
     ]
    }
   ],
   "source": [
    "from keras.models import Sequential\n",
    "from keras.layers import Dense\n",
    "\n",
    "from keras.wrappers.scikit_learn import KerasRegressor"
   ]
  },
  {
   "cell_type": "code",
   "execution_count": 104,
   "metadata": {},
   "outputs": [],
   "source": [
    "data = pd.read_csv('ENB2012_data.csv')\n",
    "\n",
    "data['Heating Load'] = round(data['Heating Load'])\n",
    "data['Cooling Load'] = round(data['Cooling Load'])\n",
    "\n",
    "data.dropna(inplace=True)\n",
    "\n",
    "x = data.drop(columns=['Heating Load','Cooling Load'])\n",
    "y1 = data['Heating Load']\n",
    "y2 = data['Cooling Load']\n",
    "\n",
    "y = data[['Heating Load','Cooling Load']]\n",
    "\n",
    "# x1_train, x1_test, y1_train, y1_test = train_test_split(x, y1, test_size=0.33, random_state=42)\n",
    "# x2_train, x2_test, y2_train, y2_test = train_test_split(x, y2, test_size=0.33, random_state=24)\n"
   ]
  },
  {
   "cell_type": "code",
   "execution_count": 105,
   "metadata": {},
   "outputs": [],
   "source": [
    "def baseline_model():\n",
    "    model = Sequential()\n",
    "    model.add(Dense(8, input_dim=8, kernel_initializer='normal', activation='relu'))\n",
    "    model.add(Dense(1, kernel_initializer='normal'))\n",
    "    # Compile model\n",
    "    model.compile(loss='mean_squared_error', optimizer='adam')\n",
    "    return model"
   ]
  },
  {
   "cell_type": "code",
   "execution_count": 106,
   "metadata": {},
   "outputs": [
    {
     "name": "stdout",
     "output_type": "stream",
     "text": [
      "Error: -9.35 (5.66) MSE\n"
     ]
    }
   ],
   "source": [
    "estimators = []\n",
    "estimators.append(('standardize', StandardScaler()))\n",
    "estimators.append(('mlp', KerasRegressor(build_fn=baseline_model, epochs=50, batch_size=5, verbose=0)))\n",
    "pipeline = Pipeline(estimators)\n",
    "kfold = KFold(n_splits=10)\n",
    "results = cross_val_score(pipeline, x, y1, cv=kfold)\n",
    "print(\"Error: %.2f (%.2f) MSE\" % (results.mean(), results.std()))"
   ]
  },
  {
   "cell_type": "code",
   "execution_count": 107,
   "metadata": {},
   "outputs": [
    {
     "name": "stdout",
     "output_type": "stream",
     "text": [
      "Error: -9.98 (4.14) MSE\n"
     ]
    }
   ],
   "source": [
    "def baseline_model_two():\n",
    "    model = Sequential()\n",
    "    model.add(Dense(8, input_dim=8, kernel_initializer='normal', activation='relu'))\n",
    "    model.add(Dense(8, activation='relu'))\n",
    "    model.add(Dense(2, kernel_initializer='normal'))\n",
    "    # Compile model\n",
    "    model.compile(loss='mean_squared_error', optimizer='adam')\n",
    "    return model\n",
    "\n",
    "estimators = []\n",
    "estimators.append(('standardize', StandardScaler()))\n",
    "estimators.append(('mlp', KerasRegressor(build_fn=baseline_model_two, epochs=50, batch_size=5, verbose=0)))\n",
    "pipeline = Pipeline(estimators)\n",
    "kfold = KFold(n_splits=10)\n",
    "results = cross_val_score(pipeline, x, y, cv=kfold)\n",
    "print(\"Error: %.2f (%.2f) MSE\" % (results.mean(), results.std()))"
   ]
  },
  {
   "cell_type": "code",
   "execution_count": 108,
   "metadata": {},
   "outputs": [
    {
     "name": "stdout",
     "output_type": "stream",
     "text": [
      "Error: -9.68 (3.71) MSE\n"
     ]
    }
   ],
   "source": [
    "def bigger_model_two():\n",
    "    model = Sequential()\n",
    "    model.add(Dense(20, input_dim=8, kernel_initializer='normal', activation='relu'))\n",
    "    model.add(Dense(10, kernel_initializer='normal', activation='relu'))\n",
    "    model.add(Dense(8, activation='relu'))\n",
    "    model.add(Dense(2, kernel_initializer='normal'))\n",
    "    # Compile model\n",
    "    model.compile(loss='mean_squared_error', optimizer='adam')\n",
    "    return model\n",
    "\n",
    "estimators = []\n",
    "estimators.append(('standardize', StandardScaler()))\n",
    "estimators.append(('mlp', KerasRegressor(build_fn=baseline_model_two, epochs=50, batch_size=5, verbose=0)))\n",
    "pipeline = Pipeline(estimators)\n",
    "kfold = KFold(n_splits=10)\n",
    "results = cross_val_score(pipeline, x, y, cv=kfold)\n",
    "print(\"Error: %.2f (%.2f) MSE\" % (results.mean(), results.std()))"
   ]
  },
  {
   "cell_type": "code",
   "execution_count": 109,
   "metadata": {},
   "outputs": [],
   "source": [
    "def bigger_model():\n",
    "    model = Sequential()\n",
    "    model.add(Dense(20, input_dim=8, kernel_initializer='normal', activation='relu'))\n",
    "    model.add(Dense(10, kernel_initializer='normal', activation='relu'))\n",
    "    model.add(Dense(8, kernel_initializer='normal', activation='relu'))\n",
    "    model.add(Dense(1, kernel_initializer='normal'))\n",
    "    # Compile model\n",
    "    model.compile(loss='mean_squared_error', optimizer='adam')\n",
    "    return model"
   ]
  },
  {
   "cell_type": "code",
   "execution_count": 110,
   "metadata": {},
   "outputs": [
    {
     "name": "stdout",
     "output_type": "stream",
     "text": [
      "Error: -7.75 (6.07) MSE\n"
     ]
    }
   ],
   "source": [
    "estimators = []\n",
    "estimators.append(('standardize', StandardScaler()))\n",
    "estimators.append(('mlp', KerasRegressor(build_fn=bigger_model, epochs=150, batch_size=10, verbose=0)))\n",
    "pipeline = Pipeline(estimators)\n",
    "kfold = KFold(n_splits=20)\n",
    "results = cross_val_score(pipeline, x, y1, cv=kfold)\n",
    "print(\"Error: %.2f (%.2f) MSE\" % (results.mean(), results.std()))"
   ]
  },
  {
   "cell_type": "code",
   "execution_count": 111,
   "metadata": {},
   "outputs": [
    {
     "name": "stdout",
     "output_type": "stream",
     "text": [
      "Error: -9.78 (3.10) MSE\n"
     ]
    }
   ],
   "source": [
    "estimators = []\n",
    "estimators.append(('standardize', StandardScaler()))\n",
    "estimators.append(('mlp', KerasRegressor(build_fn=bigger_model, epochs=150, batch_size=10, verbose=0)))\n",
    "pipeline = Pipeline(estimators)\n",
    "kfold = KFold(n_splits=20)\n",
    "results = cross_val_score(pipeline, x, y2, cv=kfold)\n",
    "print(\"Error: %.2f (%.2f) MSE\" % (results.mean(), results.std()))"
   ]
  },
  {
   "cell_type": "code",
   "execution_count": null,
   "metadata": {},
   "outputs": [],
   "source": []
  }
 ],
 "metadata": {
  "kernelspec": {
   "display_name": "Python 3",
   "language": "python",
   "name": "python3"
  },
  "language_info": {
   "codemirror_mode": {
    "name": "ipython",
    "version": 3
   },
   "file_extension": ".py",
   "mimetype": "text/x-python",
   "name": "python",
   "nbconvert_exporter": "python",
   "pygments_lexer": "ipython3",
   "version": "3.7.3"
  }
 },
 "nbformat": 4,
 "nbformat_minor": 2
}
